{
 "cells": [
  {
   "cell_type": "code",
   "execution_count": 1,
   "metadata": {},
   "outputs": [],
   "source": [
    "import pandas as pd\n",
    "import numpy as np\n",
    "import matplotlib.pyplot as plt\n",
    "import os\n",
    "from datetime import datetime\n",
    "import math\n",
    "import seaborn as sns\n",
    "import statsmodels.api as sm\n",
    "from statsmodels.regression.rolling import RollingOLS\n",
    "from dateutil.parser import parse\n",
    "import statsmodels.formula.api as smf"
   ]
  },
  {
   "cell_type": "code",
   "execution_count": 2,
   "metadata": {},
   "outputs": [
    {
     "name": "stdout",
     "output_type": "stream",
     "text": [
      "/Users/rajanand/Dropbox (MIT)/MIT Acad/458 Financial Data Science and Computing\n"
     ]
    }
   ],
   "source": [
    "## Get current working directory\n",
    "print(os.getcwd())"
   ]
  },
  {
   "cell_type": "code",
   "execution_count": 3,
   "metadata": {},
   "outputs": [
    {
     "name": "stdout",
     "output_type": "stream",
     "text": [
      "                Beta    Return       SPX      SPTR       VIX   mktrf     smb  \\\n",
      "Date                                                                           \n",
      "2001-01-02  0.733649 -0.030214 -0.028432 -0.028432  0.110598 -0.0345 -0.0039   \n",
      "2001-01-03  0.792108  0.053745  0.048884  0.049009 -0.119953  0.0527  0.0097   \n",
      "2001-01-04  0.793228 -0.005831 -0.010608 -0.010584  0.013814 -0.0121  0.0082   \n",
      "2001-01-05  0.820053 -0.041797 -0.026593 -0.026587  0.061126 -0.0291  0.0027   \n",
      "2001-01-08  0.820903 -0.003054 -0.001920 -0.001711  0.039998 -0.0037 -0.0054   \n",
      "\n",
      "               hml       rf     umd  \n",
      "Date                                 \n",
      "2001-01-02  0.0209  0.00026 -0.0123  \n",
      "2001-01-03 -0.0491  0.00026 -0.0727  \n",
      "2001-01-04 -0.0014  0.00026 -0.0415  \n",
      "2001-01-05  0.0242  0.00026  0.0066  \n",
      "2001-01-08  0.0128  0.00026  0.0017  \n",
      "                Beta    Return       SPX      SPTR       VIX   mktrf     smb  \\\n",
      "Date                                                                           \n",
      "2009-12-24  0.955339  0.004191  0.005242  0.005240 -0.012251  0.0052 -0.0008   \n",
      "2009-12-28  0.955054  0.000738  0.001153  0.001286  0.023351  0.0010 -0.0015   \n",
      "2009-12-29  0.954065 -0.000983 -0.001402 -0.001227  0.004006 -0.0009  0.0008   \n",
      "2009-12-30  0.954356 -0.001970  0.000195  0.000287 -0.002502 -0.0007 -0.0004   \n",
      "2009-12-31  0.950090 -0.003953 -0.010100 -0.010094  0.082660 -0.0088 -0.0013   \n",
      "\n",
      "               hml   rf     umd  \n",
      "Date                             \n",
      "2009-12-24  0.0016  0.0  0.0025  \n",
      "2009-12-28 -0.0030  0.0 -0.0018  \n",
      "2009-12-29 -0.0008  0.0 -0.0037  \n",
      "2009-12-30 -0.0018  0.0 -0.0010  \n",
      "2009-12-31  0.0015  0.0  0.0005  \n"
     ]
    }
   ],
   "source": [
    "## Importing equity data\n",
    "data = pd.read_csv('ProjectC_FF_v2.txt')\n",
    "data['Date'] = pd.to_datetime(data['Date'], errors='coerce')\n",
    "### Removing the ticker and d column\n",
    "data.drop(columns=['d','ticker'], inplace=True)\n",
    "data.set_index('Date', inplace=True)\n",
    "print(data.head())\n",
    "print(data.tail())"
   ]
  },
  {
   "cell_type": "code",
   "execution_count": 4,
   "metadata": {},
   "outputs": [],
   "source": [
    "### Converting the log return to simple return\n",
    "data[['Return','SPX','SPTR','VIX','mktrf','rf']] = data[['Return','SPX','SPTR','VIX','mktrf','rf']].applymap(lambda x: math.exp(float(x)) -1)"
   ]
  },
  {
   "cell_type": "code",
   "execution_count": 5,
   "metadata": {},
   "outputs": [
    {
     "data": {
      "text/html": [
       "<div>\n",
       "<style scoped>\n",
       "    .dataframe tbody tr th:only-of-type {\n",
       "        vertical-align: middle;\n",
       "    }\n",
       "\n",
       "    .dataframe tbody tr th {\n",
       "        vertical-align: top;\n",
       "    }\n",
       "\n",
       "    .dataframe thead th {\n",
       "        text-align: right;\n",
       "    }\n",
       "</style>\n",
       "<table border=\"1\" class=\"dataframe\">\n",
       "  <thead>\n",
       "    <tr style=\"text-align: right;\">\n",
       "      <th></th>\n",
       "      <th>Beta</th>\n",
       "      <th>Return</th>\n",
       "      <th>SPX</th>\n",
       "      <th>SPTR</th>\n",
       "      <th>VIX</th>\n",
       "      <th>mktrf</th>\n",
       "      <th>smb</th>\n",
       "      <th>hml</th>\n",
       "      <th>rf</th>\n",
       "      <th>umd</th>\n",
       "    </tr>\n",
       "  </thead>\n",
       "  <tbody>\n",
       "    <tr>\n",
       "      <th>count</th>\n",
       "      <td>2263.000000</td>\n",
       "      <td>2263.000000</td>\n",
       "      <td>2263.000000</td>\n",
       "      <td>2263.000000</td>\n",
       "      <td>2263.000000</td>\n",
       "      <td>2263.000000</td>\n",
       "      <td>2263.000000</td>\n",
       "      <td>2263.000000</td>\n",
       "      <td>2263.000000</td>\n",
       "      <td>2263.000000</td>\n",
       "    </tr>\n",
       "    <tr>\n",
       "      <th>mean</th>\n",
       "      <td>0.776022</td>\n",
       "      <td>0.000036</td>\n",
       "      <td>0.000023</td>\n",
       "      <td>0.000098</td>\n",
       "      <td>0.001737</td>\n",
       "      <td>0.000161</td>\n",
       "      <td>0.000208</td>\n",
       "      <td>0.000228</td>\n",
       "      <td>0.000095</td>\n",
       "      <td>-0.000014</td>\n",
       "    </tr>\n",
       "    <tr>\n",
       "      <th>std</th>\n",
       "      <td>0.106578</td>\n",
       "      <td>0.012745</td>\n",
       "      <td>0.014005</td>\n",
       "      <td>0.014005</td>\n",
       "      <td>0.061651</td>\n",
       "      <td>0.013901</td>\n",
       "      <td>0.005962</td>\n",
       "      <td>0.006570</td>\n",
       "      <td>0.000067</td>\n",
       "      <td>0.011829</td>\n",
       "    </tr>\n",
       "    <tr>\n",
       "      <th>min</th>\n",
       "      <td>0.410095</td>\n",
       "      <td>-0.094771</td>\n",
       "      <td>-0.090350</td>\n",
       "      <td>-0.090259</td>\n",
       "      <td>-0.259087</td>\n",
       "      <td>-0.086069</td>\n",
       "      <td>-0.038000</td>\n",
       "      <td>-0.049100</td>\n",
       "      <td>0.000000</td>\n",
       "      <td>-0.082500</td>\n",
       "    </tr>\n",
       "    <tr>\n",
       "      <th>25%</th>\n",
       "      <td>0.701459</td>\n",
       "      <td>-0.005379</td>\n",
       "      <td>-0.006193</td>\n",
       "      <td>-0.006089</td>\n",
       "      <td>-0.035293</td>\n",
       "      <td>-0.006032</td>\n",
       "      <td>-0.003150</td>\n",
       "      <td>-0.002400</td>\n",
       "      <td>0.000040</td>\n",
       "      <td>-0.004600</td>\n",
       "    </tr>\n",
       "    <tr>\n",
       "      <th>50%</th>\n",
       "      <td>0.774295</td>\n",
       "      <td>0.000000</td>\n",
       "      <td>0.000588</td>\n",
       "      <td>0.000657</td>\n",
       "      <td>-0.004812</td>\n",
       "      <td>0.000600</td>\n",
       "      <td>0.000400</td>\n",
       "      <td>0.000200</td>\n",
       "      <td>0.000070</td>\n",
       "      <td>0.000600</td>\n",
       "    </tr>\n",
       "    <tr>\n",
       "      <th>75%</th>\n",
       "      <td>0.848466</td>\n",
       "      <td>0.005790</td>\n",
       "      <td>0.006157</td>\n",
       "      <td>0.006227</td>\n",
       "      <td>0.032124</td>\n",
       "      <td>0.006219</td>\n",
       "      <td>0.003700</td>\n",
       "      <td>0.002800</td>\n",
       "      <td>0.000150</td>\n",
       "      <td>0.005000</td>\n",
       "    </tr>\n",
       "    <tr>\n",
       "      <th>max</th>\n",
       "      <td>1.082567</td>\n",
       "      <td>0.105634</td>\n",
       "      <td>0.115800</td>\n",
       "      <td>0.115808</td>\n",
       "      <td>0.642152</td>\n",
       "      <td>0.121986</td>\n",
       "      <td>0.043100</td>\n",
       "      <td>0.040100</td>\n",
       "      <td>0.000260</td>\n",
       "      <td>0.071000</td>\n",
       "    </tr>\n",
       "  </tbody>\n",
       "</table>\n",
       "</div>"
      ],
      "text/plain": [
       "              Beta       Return          SPX         SPTR          VIX  \\\n",
       "count  2263.000000  2263.000000  2263.000000  2263.000000  2263.000000   \n",
       "mean      0.776022     0.000036     0.000023     0.000098     0.001737   \n",
       "std       0.106578     0.012745     0.014005     0.014005     0.061651   \n",
       "min       0.410095    -0.094771    -0.090350    -0.090259    -0.259087   \n",
       "25%       0.701459    -0.005379    -0.006193    -0.006089    -0.035293   \n",
       "50%       0.774295     0.000000     0.000588     0.000657    -0.004812   \n",
       "75%       0.848466     0.005790     0.006157     0.006227     0.032124   \n",
       "max       1.082567     0.105634     0.115800     0.115808     0.642152   \n",
       "\n",
       "             mktrf          smb          hml           rf          umd  \n",
       "count  2263.000000  2263.000000  2263.000000  2263.000000  2263.000000  \n",
       "mean      0.000161     0.000208     0.000228     0.000095    -0.000014  \n",
       "std       0.013901     0.005962     0.006570     0.000067     0.011829  \n",
       "min      -0.086069    -0.038000    -0.049100     0.000000    -0.082500  \n",
       "25%      -0.006032    -0.003150    -0.002400     0.000040    -0.004600  \n",
       "50%       0.000600     0.000400     0.000200     0.000070     0.000600  \n",
       "75%       0.006219     0.003700     0.002800     0.000150     0.005000  \n",
       "max       0.121986     0.043100     0.040100     0.000260     0.071000  "
      ]
     },
     "execution_count": 5,
     "metadata": {},
     "output_type": "execute_result"
    }
   ],
   "source": [
    "data.describe()"
   ]
  },
  {
   "cell_type": "markdown",
   "metadata": {},
   "source": [
    "### Question 1"
   ]
  },
  {
   "cell_type": "code",
   "execution_count": 6,
   "metadata": {},
   "outputs": [
    {
     "data": {
      "text/html": [
       "<div>\n",
       "<style scoped>\n",
       "    .dataframe tbody tr th:only-of-type {\n",
       "        vertical-align: middle;\n",
       "    }\n",
       "\n",
       "    .dataframe tbody tr th {\n",
       "        vertical-align: top;\n",
       "    }\n",
       "\n",
       "    .dataframe thead th {\n",
       "        text-align: right;\n",
       "    }\n",
       "</style>\n",
       "<table border=\"1\" class=\"dataframe\">\n",
       "  <thead>\n",
       "    <tr style=\"text-align: right;\">\n",
       "      <th></th>\n",
       "      <th>Beta</th>\n",
       "      <th>Return</th>\n",
       "      <th>SPX</th>\n",
       "      <th>SPTR</th>\n",
       "      <th>VIX</th>\n",
       "      <th>mktrf</th>\n",
       "      <th>smb</th>\n",
       "      <th>hml</th>\n",
       "      <th>rf</th>\n",
       "      <th>umd</th>\n",
       "    </tr>\n",
       "    <tr>\n",
       "      <th>Date</th>\n",
       "      <th></th>\n",
       "      <th></th>\n",
       "      <th></th>\n",
       "      <th></th>\n",
       "      <th></th>\n",
       "      <th></th>\n",
       "      <th></th>\n",
       "      <th></th>\n",
       "      <th></th>\n",
       "      <th></th>\n",
       "    </tr>\n",
       "  </thead>\n",
       "  <tbody>\n",
       "    <tr>\n",
       "      <th>2009-12-24</th>\n",
       "      <td>0.955339</td>\n",
       "      <td>0.004200</td>\n",
       "      <td>0.005256</td>\n",
       "      <td>0.005254</td>\n",
       "      <td>-0.012177</td>\n",
       "      <td>0.005214</td>\n",
       "      <td>-0.0008</td>\n",
       "      <td>0.0016</td>\n",
       "      <td>0.0</td>\n",
       "      <td>0.0025</td>\n",
       "    </tr>\n",
       "    <tr>\n",
       "      <th>2009-12-28</th>\n",
       "      <td>0.955054</td>\n",
       "      <td>0.000738</td>\n",
       "      <td>0.001154</td>\n",
       "      <td>0.001286</td>\n",
       "      <td>0.023626</td>\n",
       "      <td>0.001001</td>\n",
       "      <td>-0.0015</td>\n",
       "      <td>-0.0030</td>\n",
       "      <td>0.0</td>\n",
       "      <td>-0.0018</td>\n",
       "    </tr>\n",
       "    <tr>\n",
       "      <th>2009-12-29</th>\n",
       "      <td>0.954065</td>\n",
       "      <td>-0.000983</td>\n",
       "      <td>-0.001401</td>\n",
       "      <td>-0.001227</td>\n",
       "      <td>0.004014</td>\n",
       "      <td>-0.000900</td>\n",
       "      <td>0.0008</td>\n",
       "      <td>-0.0008</td>\n",
       "      <td>0.0</td>\n",
       "      <td>-0.0037</td>\n",
       "    </tr>\n",
       "    <tr>\n",
       "      <th>2009-12-30</th>\n",
       "      <td>0.954356</td>\n",
       "      <td>-0.001968</td>\n",
       "      <td>0.000195</td>\n",
       "      <td>0.000287</td>\n",
       "      <td>-0.002499</td>\n",
       "      <td>-0.000700</td>\n",
       "      <td>-0.0004</td>\n",
       "      <td>-0.0018</td>\n",
       "      <td>0.0</td>\n",
       "      <td>-0.0010</td>\n",
       "    </tr>\n",
       "    <tr>\n",
       "      <th>2009-12-31</th>\n",
       "      <td>0.950090</td>\n",
       "      <td>-0.003945</td>\n",
       "      <td>-0.010050</td>\n",
       "      <td>-0.010043</td>\n",
       "      <td>0.086172</td>\n",
       "      <td>-0.008761</td>\n",
       "      <td>-0.0013</td>\n",
       "      <td>0.0015</td>\n",
       "      <td>0.0</td>\n",
       "      <td>0.0005</td>\n",
       "    </tr>\n",
       "  </tbody>\n",
       "</table>\n",
       "</div>"
      ],
      "text/plain": [
       "                Beta    Return       SPX      SPTR       VIX     mktrf  \\\n",
       "Date                                                                     \n",
       "2009-12-24  0.955339  0.004200  0.005256  0.005254 -0.012177  0.005214   \n",
       "2009-12-28  0.955054  0.000738  0.001154  0.001286  0.023626  0.001001   \n",
       "2009-12-29  0.954065 -0.000983 -0.001401 -0.001227  0.004014 -0.000900   \n",
       "2009-12-30  0.954356 -0.001968  0.000195  0.000287 -0.002499 -0.000700   \n",
       "2009-12-31  0.950090 -0.003945 -0.010050 -0.010043  0.086172 -0.008761   \n",
       "\n",
       "               smb     hml   rf     umd  \n",
       "Date                                     \n",
       "2009-12-24 -0.0008  0.0016  0.0  0.0025  \n",
       "2009-12-28 -0.0015 -0.0030  0.0 -0.0018  \n",
       "2009-12-29  0.0008 -0.0008  0.0 -0.0037  \n",
       "2009-12-30 -0.0004 -0.0018  0.0 -0.0010  \n",
       "2009-12-31 -0.0013  0.0015  0.0  0.0005  "
      ]
     },
     "execution_count": 6,
     "metadata": {},
     "output_type": "execute_result"
    }
   ],
   "source": [
    "### Subsetting the data for Question 1\n",
    "benchmark = data['1/1/2008':'1/1/2010']\n",
    "benchmark.tail()"
   ]
  },
  {
   "cell_type": "code",
   "execution_count": 7,
   "metadata": {},
   "outputs": [
    {
     "name": "stdout",
     "output_type": "stream",
     "text": [
      "(505, 2)\n"
     ]
    },
    {
     "data": {
      "text/html": [
       "<div>\n",
       "<style scoped>\n",
       "    .dataframe tbody tr th:only-of-type {\n",
       "        vertical-align: middle;\n",
       "    }\n",
       "\n",
       "    .dataframe tbody tr th {\n",
       "        vertical-align: top;\n",
       "    }\n",
       "\n",
       "    .dataframe thead th {\n",
       "        text-align: right;\n",
       "    }\n",
       "</style>\n",
       "<table border=\"1\" class=\"dataframe\">\n",
       "  <thead>\n",
       "    <tr style=\"text-align: right;\">\n",
       "      <th></th>\n",
       "      <th>Return</th>\n",
       "      <th>SPX</th>\n",
       "    </tr>\n",
       "    <tr>\n",
       "      <th>Date</th>\n",
       "      <th></th>\n",
       "      <th></th>\n",
       "    </tr>\n",
       "  </thead>\n",
       "  <tbody>\n",
       "    <tr>\n",
       "      <th>2008-01-02</th>\n",
       "      <td>-0.027012</td>\n",
       "      <td>-0.014538</td>\n",
       "    </tr>\n",
       "    <tr>\n",
       "      <th>2008-01-03</th>\n",
       "      <td>-0.005922</td>\n",
       "      <td>-0.000100</td>\n",
       "    </tr>\n",
       "    <tr>\n",
       "      <th>2008-01-04</th>\n",
       "      <td>-0.030115</td>\n",
       "      <td>-0.024652</td>\n",
       "    </tr>\n",
       "    <tr>\n",
       "      <th>2008-01-07</th>\n",
       "      <td>-0.002945</td>\n",
       "      <td>0.003123</td>\n",
       "    </tr>\n",
       "    <tr>\n",
       "      <th>2008-01-08</th>\n",
       "      <td>-0.017682</td>\n",
       "      <td>-0.018452</td>\n",
       "    </tr>\n",
       "  </tbody>\n",
       "</table>\n",
       "</div>"
      ],
      "text/plain": [
       "              Return       SPX\n",
       "Date                          \n",
       "2008-01-02 -0.027012 -0.014538\n",
       "2008-01-03 -0.005922 -0.000100\n",
       "2008-01-04 -0.030115 -0.024652\n",
       "2008-01-07 -0.002945  0.003123\n",
       "2008-01-08 -0.017682 -0.018452"
      ]
     },
     "execution_count": 7,
     "metadata": {},
     "output_type": "execute_result"
    }
   ],
   "source": [
    "### Dividing the benchmark data for SPX, SPTR and VIX\n",
    "spx = benchmark[['Return','SPX']]\n",
    "spx = spx.sub(benchmark['rf'], axis=0).dropna(axis=0, how='all')\n",
    "print(spx.shape)\n",
    "spx.head()"
   ]
  },
  {
   "cell_type": "code",
   "execution_count": 8,
   "metadata": {},
   "outputs": [
    {
     "name": "stdout",
     "output_type": "stream",
     "text": [
      "(505, 2)\n"
     ]
    },
    {
     "data": {
      "text/html": [
       "<div>\n",
       "<style scoped>\n",
       "    .dataframe tbody tr th:only-of-type {\n",
       "        vertical-align: middle;\n",
       "    }\n",
       "\n",
       "    .dataframe tbody tr th {\n",
       "        vertical-align: top;\n",
       "    }\n",
       "\n",
       "    .dataframe thead th {\n",
       "        text-align: right;\n",
       "    }\n",
       "</style>\n",
       "<table border=\"1\" class=\"dataframe\">\n",
       "  <thead>\n",
       "    <tr style=\"text-align: right;\">\n",
       "      <th></th>\n",
       "      <th>Return</th>\n",
       "      <th>SPTR</th>\n",
       "    </tr>\n",
       "    <tr>\n",
       "      <th>Date</th>\n",
       "      <th></th>\n",
       "      <th></th>\n",
       "    </tr>\n",
       "  </thead>\n",
       "  <tbody>\n",
       "    <tr>\n",
       "      <th>2008-01-02</th>\n",
       "      <td>-0.027012</td>\n",
       "      <td>-0.014334</td>\n",
       "    </tr>\n",
       "    <tr>\n",
       "      <th>2008-01-03</th>\n",
       "      <td>-0.005922</td>\n",
       "      <td>-0.000096</td>\n",
       "    </tr>\n",
       "    <tr>\n",
       "      <th>2008-01-04</th>\n",
       "      <td>-0.030115</td>\n",
       "      <td>-0.024654</td>\n",
       "    </tr>\n",
       "    <tr>\n",
       "      <th>2008-01-07</th>\n",
       "      <td>-0.002945</td>\n",
       "      <td>0.003133</td>\n",
       "    </tr>\n",
       "    <tr>\n",
       "      <th>2008-01-08</th>\n",
       "      <td>-0.017682</td>\n",
       "      <td>-0.018122</td>\n",
       "    </tr>\n",
       "  </tbody>\n",
       "</table>\n",
       "</div>"
      ],
      "text/plain": [
       "              Return      SPTR\n",
       "Date                          \n",
       "2008-01-02 -0.027012 -0.014334\n",
       "2008-01-03 -0.005922 -0.000096\n",
       "2008-01-04 -0.030115 -0.024654\n",
       "2008-01-07 -0.002945  0.003133\n",
       "2008-01-08 -0.017682 -0.018122"
      ]
     },
     "execution_count": 8,
     "metadata": {},
     "output_type": "execute_result"
    }
   ],
   "source": [
    "### Dividing the benchmark data for SPX, SPTR and VIX\n",
    "sptr = benchmark[['Return','SPTR']]\n",
    "sptr = sptr.sub(benchmark['rf'], axis=0).dropna(axis=0, how='all')\n",
    "print(sptr.shape)\n",
    "sptr.head()"
   ]
  },
  {
   "cell_type": "code",
   "execution_count": 9,
   "metadata": {},
   "outputs": [
    {
     "name": "stdout",
     "output_type": "stream",
     "text": [
      "(505, 2)\n"
     ]
    },
    {
     "data": {
      "text/html": [
       "<div>\n",
       "<style scoped>\n",
       "    .dataframe tbody tr th:only-of-type {\n",
       "        vertical-align: middle;\n",
       "    }\n",
       "\n",
       "    .dataframe tbody tr th {\n",
       "        vertical-align: top;\n",
       "    }\n",
       "\n",
       "    .dataframe thead th {\n",
       "        text-align: right;\n",
       "    }\n",
       "</style>\n",
       "<table border=\"1\" class=\"dataframe\">\n",
       "  <thead>\n",
       "    <tr style=\"text-align: right;\">\n",
       "      <th></th>\n",
       "      <th>Return</th>\n",
       "      <th>VIX</th>\n",
       "    </tr>\n",
       "    <tr>\n",
       "      <th>Date</th>\n",
       "      <th></th>\n",
       "      <th></th>\n",
       "    </tr>\n",
       "  </thead>\n",
       "  <tbody>\n",
       "    <tr>\n",
       "      <th>2008-01-02</th>\n",
       "      <td>-0.027012</td>\n",
       "      <td>0.029678</td>\n",
       "    </tr>\n",
       "    <tr>\n",
       "      <th>2008-01-03</th>\n",
       "      <td>-0.005922</td>\n",
       "      <td>-0.029448</td>\n",
       "    </tr>\n",
       "    <tr>\n",
       "      <th>2008-01-04</th>\n",
       "      <td>-0.030115</td>\n",
       "      <td>0.064373</td>\n",
       "    </tr>\n",
       "    <tr>\n",
       "      <th>2008-01-07</th>\n",
       "      <td>-0.002945</td>\n",
       "      <td>-0.006366</td>\n",
       "    </tr>\n",
       "    <tr>\n",
       "      <th>2008-01-08</th>\n",
       "      <td>-0.017682</td>\n",
       "      <td>0.068837</td>\n",
       "    </tr>\n",
       "  </tbody>\n",
       "</table>\n",
       "</div>"
      ],
      "text/plain": [
       "              Return       VIX\n",
       "Date                          \n",
       "2008-01-02 -0.027012  0.029678\n",
       "2008-01-03 -0.005922 -0.029448\n",
       "2008-01-04 -0.030115  0.064373\n",
       "2008-01-07 -0.002945 -0.006366\n",
       "2008-01-08 -0.017682  0.068837"
      ]
     },
     "execution_count": 9,
     "metadata": {},
     "output_type": "execute_result"
    }
   ],
   "source": [
    "### Dividing the benchmark data for SPX, SPTR and VIX\n",
    "vix = benchmark[['Return','VIX']]\n",
    "vix = vix.sub(benchmark['rf'], axis=0).dropna(axis=0, how='all')\n",
    "print(vix.shape)\n",
    "vix.head()"
   ]
  },
  {
   "cell_type": "code",
   "execution_count": 10,
   "metadata": {},
   "outputs": [
    {
     "data": {
      "text/html": [
       "<div>\n",
       "<style scoped>\n",
       "    .dataframe tbody tr th:only-of-type {\n",
       "        vertical-align: middle;\n",
       "    }\n",
       "\n",
       "    .dataframe tbody tr th {\n",
       "        vertical-align: top;\n",
       "    }\n",
       "\n",
       "    .dataframe thead th {\n",
       "        text-align: right;\n",
       "    }\n",
       "</style>\n",
       "<table border=\"1\" class=\"dataframe\">\n",
       "  <thead>\n",
       "    <tr style=\"text-align: right;\">\n",
       "      <th></th>\n",
       "      <th>const</th>\n",
       "      <th>SPX</th>\n",
       "    </tr>\n",
       "    <tr>\n",
       "      <th>Date</th>\n",
       "      <th></th>\n",
       "      <th></th>\n",
       "    </tr>\n",
       "  </thead>\n",
       "  <tbody>\n",
       "    <tr>\n",
       "      <th>2008-01-02</th>\n",
       "      <td>NaN</td>\n",
       "      <td>NaN</td>\n",
       "    </tr>\n",
       "    <tr>\n",
       "      <th>2008-01-03</th>\n",
       "      <td>NaN</td>\n",
       "      <td>NaN</td>\n",
       "    </tr>\n",
       "    <tr>\n",
       "      <th>2008-01-04</th>\n",
       "      <td>NaN</td>\n",
       "      <td>NaN</td>\n",
       "    </tr>\n",
       "    <tr>\n",
       "      <th>2008-01-07</th>\n",
       "      <td>NaN</td>\n",
       "      <td>NaN</td>\n",
       "    </tr>\n",
       "    <tr>\n",
       "      <th>2008-01-08</th>\n",
       "      <td>NaN</td>\n",
       "      <td>NaN</td>\n",
       "    </tr>\n",
       "    <tr>\n",
       "      <th>...</th>\n",
       "      <td>...</td>\n",
       "      <td>...</td>\n",
       "    </tr>\n",
       "    <tr>\n",
       "      <th>2009-12-24</th>\n",
       "      <td>0.000064</td>\n",
       "      <td>0.975988</td>\n",
       "    </tr>\n",
       "    <tr>\n",
       "      <th>2009-12-28</th>\n",
       "      <td>0.000028</td>\n",
       "      <td>0.978623</td>\n",
       "    </tr>\n",
       "    <tr>\n",
       "      <th>2009-12-29</th>\n",
       "      <td>0.000168</td>\n",
       "      <td>0.966431</td>\n",
       "    </tr>\n",
       "    <tr>\n",
       "      <th>2009-12-30</th>\n",
       "      <td>0.000056</td>\n",
       "      <td>0.971666</td>\n",
       "    </tr>\n",
       "    <tr>\n",
       "      <th>2009-12-31</th>\n",
       "      <td>0.000147</td>\n",
       "      <td>0.961953</td>\n",
       "    </tr>\n",
       "  </tbody>\n",
       "</table>\n",
       "<p>505 rows × 2 columns</p>\n",
       "</div>"
      ],
      "text/plain": [
       "               const       SPX\n",
       "Date                          \n",
       "2008-01-02       NaN       NaN\n",
       "2008-01-03       NaN       NaN\n",
       "2008-01-04       NaN       NaN\n",
       "2008-01-07       NaN       NaN\n",
       "2008-01-08       NaN       NaN\n",
       "...              ...       ...\n",
       "2009-12-24  0.000064  0.975988\n",
       "2009-12-28  0.000028  0.978623\n",
       "2009-12-29  0.000168  0.966431\n",
       "2009-12-30  0.000056  0.971666\n",
       "2009-12-31  0.000147  0.961953\n",
       "\n",
       "[505 rows x 2 columns]"
      ]
     },
     "execution_count": 10,
     "metadata": {},
     "output_type": "execute_result"
    }
   ],
   "source": [
    "### Rolling 3Month beta with SPX Calculated value\n",
    "spx_reg = RollingOLS(spx['Return'], sm.add_constant(spx['SPX']), window=66).fit()\n",
    "spx_params = spx_reg.params\n",
    "spx_params"
   ]
  },
  {
   "cell_type": "code",
   "execution_count": 11,
   "metadata": {},
   "outputs": [
    {
     "data": {
      "image/png": "[encoded data removed]",
      "text/plain": [
       "<Figure size 720x432 with 1 Axes>"
      ]
     },
     "metadata": {
      "needs_background": "light"
     },
     "output_type": "display_data"
    }
   ],
   "source": [
    "### Plotting the rolling beta (pre-Calculated)\n",
    "benchmark['Beta'].plot(figsize=(10,6))\n",
    "plt.title('3M Rolling Beta (Pre-computed) with S&P 500')\n",
    "plt.xlabel('Date')\n",
    "plt.ylabel('Beta')\n",
    "plt.axhline(benchmark['Beta'].mean(), color='green',linestyle='dashed', linewidth=2)\n",
    "min_ylim, max_ylim = plt.ylim()\n",
    "min_xlim, max_xlim = plt.xlim()\n",
    "plt.text(733350 , 0.87, 'Mean: {:.2f}'.format(benchmark['Beta'].mean()), fontsize=10, color='g')\n",
    "plt.savefig('RollingBeta.jpeg')\n",
    "plt.show()"
   ]
  },
  {
   "cell_type": "code",
   "execution_count": 12,
   "metadata": {},
   "outputs": [
    {
     "data": {
      "text/plain": [
       "733006.55"
      ]
     },
     "execution_count": 12,
     "metadata": {},
     "output_type": "execute_result"
    }
   ],
   "source": [
    "min_xlim"
   ]
  },
  {
   "cell_type": "code",
   "execution_count": 13,
   "metadata": {},
   "outputs": [
    {
     "data": {
      "text/plain": [
       "733808.45"
      ]
     },
     "execution_count": 13,
     "metadata": {},
     "output_type": "execute_result"
    }
   ],
   "source": [
    "max_xlim"
   ]
  },
  {
   "cell_type": "code",
   "execution_count": 14,
   "metadata": {},
   "outputs": [
    {
     "data": {
      "image/png": "[encoded data removed]",
      "text/plain": [
       "<Figure size 720x432 with 1 Axes>"
      ]
     },
     "metadata": {
      "needs_background": "light"
     },
     "output_type": "display_data"
    }
   ],
   "source": [
    "### Plotting the precomputed Beta\n",
    "### Plotting the rolling beta (Calculated)\n",
    "benchmark['Return'].plot(figsize=(10,6), color='red', label='Calculated by Regression')\n",
    "benchmark['Beta'].plot(color='blue', label='Pre-computed Value')\n",
    "plt.title('3M Rolling Beta with S&P 500')\n",
    "plt.xlabel('Date')\n",
    "plt.ylabel('Beta')\n",
    "plt.legend()\n",
    "#plt.savefig('RollingBeta_comp.jpeg')\n",
    "plt.show()"
   ]
  },
  {
   "cell_type": "code",
   "execution_count": 15,
   "metadata": {},
   "outputs": [
    {
     "data": {
      "image/png": "[encoded data removed]",
      "text/plain": [
       "<Figure size 720x432 with 1 Axes>"
      ]
     },
     "metadata": {
      "needs_background": "light"
     },
     "output_type": "display_data"
    }
   ],
   "source": [
    "### Scatter plot for 1-day stock return with SPTR\n",
    "fit_sptr = np.polyfit(sptr['SPTR'], sptr['Return'], deg=1)\n",
    "\n",
    "sptr.plot(kind='scatter', x ='SPTR', y='Return', figsize=(10,6))\n",
    "plt.xlabel('SPTR 1-day return')\n",
    "plt.ylabel('1-day stock return')\n",
    "\n",
    "plt.plot(sptr['SPTR'], fit_sptr[0]*sptr['SPTR'] + fit_sptr[1], color='red')\n",
    "plt.annotate('y={0:.4f} x '.format(fit_sptr[0]), xy=(0.05, -0.03))\n",
    "plt.title('1-day return comparsion with SPTR')\n",
    "plt.savefig('SPTRComp.jpeg')\n",
    "plt.show()"
   ]
  },
  {
   "cell_type": "code",
   "execution_count": 16,
   "metadata": {},
   "outputs": [
    {
     "data": {
      "text/html": [
       "<table class=\"simpletable\">\n",
       "<caption>OLS Regression Results</caption>\n",
       "<tr>\n",
       "  <th>Dep. Variable:</th>         <td>Return</td>      <th>  R-squared:         </th> <td>   0.847</td> \n",
       "</tr>\n",
       "<tr>\n",
       "  <th>Model:</th>                   <td>OLS</td>       <th>  Adj. R-squared:    </th> <td>   0.847</td> \n",
       "</tr>\n",
       "<tr>\n",
       "  <th>Method:</th>             <td>Least Squares</td>  <th>  F-statistic:       </th> <td>   2791.</td> \n",
       "</tr>\n",
       "<tr>\n",
       "  <th>Date:</th>             <td>Fri, 16 Oct 2020</td> <th>  Prob (F-statistic):</th> <td>2.04e-207</td>\n",
       "</tr>\n",
       "<tr>\n",
       "  <th>Time:</th>                 <td>18:57:11</td>     <th>  Log-Likelihood:    </th> <td>  1746.8</td> \n",
       "</tr>\n",
       "<tr>\n",
       "  <th>No. Observations:</th>      <td>   505</td>      <th>  AIC:               </th> <td>  -3490.</td> \n",
       "</tr>\n",
       "<tr>\n",
       "  <th>Df Residuals:</th>          <td>   503</td>      <th>  BIC:               </th> <td>  -3481.</td> \n",
       "</tr>\n",
       "<tr>\n",
       "  <th>Df Model:</th>              <td>     1</td>      <th>                     </th>     <td> </td>    \n",
       "</tr>\n",
       "<tr>\n",
       "  <th>Covariance Type:</th>      <td>nonrobust</td>    <th>                     </th>     <td> </td>    \n",
       "</tr>\n",
       "</table>\n",
       "<table class=\"simpletable\">\n",
       "<tr>\n",
       "      <td></td>         <th>coef</th>     <th>std err</th>      <th>t</th>      <th>P>|t|</th>  <th>[0.025</th>    <th>0.975]</th>  \n",
       "</tr>\n",
       "<tr>\n",
       "  <th>Intercept</th> <td>-6.382e-05</td> <td>    0.000</td> <td>   -0.188</td> <td> 0.851</td> <td>   -0.001</td> <td>    0.001</td>\n",
       "</tr>\n",
       "<tr>\n",
       "  <th>SPTR</th>      <td>    0.8178</td> <td>    0.015</td> <td>   52.834</td> <td> 0.000</td> <td>    0.787</td> <td>    0.848</td>\n",
       "</tr>\n",
       "</table>\n",
       "<table class=\"simpletable\">\n",
       "<tr>\n",
       "  <th>Omnibus:</th>       <td>62.071</td> <th>  Durbin-Watson:     </th> <td>   2.260</td>\n",
       "</tr>\n",
       "<tr>\n",
       "  <th>Prob(Omnibus):</th> <td> 0.000</td> <th>  Jarque-Bera (JB):  </th> <td> 417.282</td>\n",
       "</tr>\n",
       "<tr>\n",
       "  <th>Skew:</th>          <td>-0.234</td> <th>  Prob(JB):          </th> <td>2.45e-91</td>\n",
       "</tr>\n",
       "<tr>\n",
       "  <th>Kurtosis:</th>      <td> 7.429</td> <th>  Cond. No.          </th> <td>    45.6</td>\n",
       "</tr>\n",
       "</table><br/><br/>Warnings:<br/>[1] Standard Errors assume that the covariance matrix of the errors is correctly specified."
      ],
      "text/plain": [
       "<class 'statsmodels.iolib.summary.Summary'>\n",
       "\"\"\"\n",
       "                            OLS Regression Results                            \n",
       "==============================================================================\n",
       "Dep. Variable:                 Return   R-squared:                       0.847\n",
       "Model:                            OLS   Adj. R-squared:                  0.847\n",
       "Method:                 Least Squares   F-statistic:                     2791.\n",
       "Date:                Fri, 16 Oct 2020   Prob (F-statistic):          2.04e-207\n",
       "Time:                        18:57:11   Log-Likelihood:                 1746.8\n",
       "No. Observations:                 505   AIC:                            -3490.\n",
       "Df Residuals:                     503   BIC:                            -3481.\n",
       "Df Model:                           1                                         \n",
       "Covariance Type:            nonrobust                                         \n",
       "==============================================================================\n",
       "                 coef    std err          t      P>|t|      [0.025      0.975]\n",
       "------------------------------------------------------------------------------\n",
       "Intercept  -6.382e-05      0.000     -0.188      0.851      -0.001       0.001\n",
       "SPTR           0.8178      0.015     52.834      0.000       0.787       0.848\n",
       "==============================================================================\n",
       "Omnibus:                       62.071   Durbin-Watson:                   2.260\n",
       "Prob(Omnibus):                  0.000   Jarque-Bera (JB):              417.282\n",
       "Skew:                          -0.234   Prob(JB):                     2.45e-91\n",
       "Kurtosis:                       7.429   Cond. No.                         45.6\n",
       "==============================================================================\n",
       "\n",
       "Warnings:\n",
       "[1] Standard Errors assume that the covariance matrix of the errors is correctly specified.\n",
       "\"\"\""
      ]
     },
     "execution_count": 16,
     "metadata": {},
     "output_type": "execute_result"
    }
   ],
   "source": [
    "### Finding the statistics for regression. \n",
    "sptr_reg = smf.ols('Return ~ SPTR', data=sptr).fit()\n",
    "sptr_reg.summary()"
   ]
  },
  {
   "cell_type": "code",
   "execution_count": 17,
   "metadata": {},
   "outputs": [
    {
     "data": {
      "text/plain": [
       "0.8501647928576982"
      ]
     },
     "execution_count": 17,
     "metadata": {},
     "output_type": "execute_result"
    }
   ],
   "source": [
    "benchmark['Beta'].mean()"
   ]
  },
  {
   "cell_type": "code",
   "execution_count": 18,
   "metadata": {},
   "outputs": [
    {
     "data": {
      "text/html": [
       "<table class=\"simpletable\">\n",
       "<caption>OLS Regression Results</caption>\n",
       "<tr>\n",
       "  <th>Dep. Variable:</th>         <td>Return</td>      <th>  R-squared:         </th> <td>   0.565</td>\n",
       "</tr>\n",
       "<tr>\n",
       "  <th>Model:</th>                   <td>OLS</td>       <th>  Adj. R-squared:    </th> <td>   0.564</td>\n",
       "</tr>\n",
       "<tr>\n",
       "  <th>Method:</th>             <td>Least Squares</td>  <th>  F-statistic:       </th> <td>   652.9</td>\n",
       "</tr>\n",
       "<tr>\n",
       "  <th>Date:</th>             <td>Fri, 16 Oct 2020</td> <th>  Prob (F-statistic):</th> <td>6.25e-93</td>\n",
       "</tr>\n",
       "<tr>\n",
       "  <th>Time:</th>                 <td>18:57:11</td>     <th>  Log-Likelihood:    </th> <td>  1482.4</td>\n",
       "</tr>\n",
       "<tr>\n",
       "  <th>No. Observations:</th>      <td>   505</td>      <th>  AIC:               </th> <td>  -2961.</td>\n",
       "</tr>\n",
       "<tr>\n",
       "  <th>Df Residuals:</th>          <td>   503</td>      <th>  BIC:               </th> <td>  -2952.</td>\n",
       "</tr>\n",
       "<tr>\n",
       "  <th>Df Model:</th>              <td>     1</td>      <th>                     </th>     <td> </td>   \n",
       "</tr>\n",
       "<tr>\n",
       "  <th>Covariance Type:</th>      <td>nonrobust</td>    <th>                     </th>     <td> </td>   \n",
       "</tr>\n",
       "</table>\n",
       "<table class=\"simpletable\">\n",
       "<tr>\n",
       "      <td></td>         <th>coef</th>     <th>std err</th>      <th>t</th>      <th>P>|t|</th>  <th>[0.025</th>    <th>0.975]</th>  \n",
       "</tr>\n",
       "<tr>\n",
       "  <th>Intercept</th> <td>    0.0002</td> <td>    0.001</td> <td>    0.364</td> <td> 0.716</td> <td>   -0.001</td> <td>    0.001</td>\n",
       "</tr>\n",
       "<tr>\n",
       "  <th>VIX</th>       <td>   -0.2104</td> <td>    0.008</td> <td>  -25.552</td> <td> 0.000</td> <td>   -0.227</td> <td>   -0.194</td>\n",
       "</tr>\n",
       "</table>\n",
       "<table class=\"simpletable\">\n",
       "<tr>\n",
       "  <th>Omnibus:</th>       <td>72.101</td> <th>  Durbin-Watson:     </th> <td>   2.173</td> \n",
       "</tr>\n",
       "<tr>\n",
       "  <th>Prob(Omnibus):</th> <td> 0.000</td> <th>  Jarque-Bera (JB):  </th> <td> 486.353</td> \n",
       "</tr>\n",
       "<tr>\n",
       "  <th>Skew:</th>          <td> 0.373</td> <th>  Prob(JB):          </th> <td>2.45e-106</td>\n",
       "</tr>\n",
       "<tr>\n",
       "  <th>Kurtosis:</th>      <td> 7.749</td> <th>  Cond. No.          </th> <td>    14.4</td> \n",
       "</tr>\n",
       "</table><br/><br/>Warnings:<br/>[1] Standard Errors assume that the covariance matrix of the errors is correctly specified."
      ],
      "text/plain": [
       "<class 'statsmodels.iolib.summary.Summary'>\n",
       "\"\"\"\n",
       "                            OLS Regression Results                            \n",
       "==============================================================================\n",
       "Dep. Variable:                 Return   R-squared:                       0.565\n",
       "Model:                            OLS   Adj. R-squared:                  0.564\n",
       "Method:                 Least Squares   F-statistic:                     652.9\n",
       "Date:                Fri, 16 Oct 2020   Prob (F-statistic):           6.25e-93\n",
       "Time:                        18:57:11   Log-Likelihood:                 1482.4\n",
       "No. Observations:                 505   AIC:                            -2961.\n",
       "Df Residuals:                     503   BIC:                            -2952.\n",
       "Df Model:                           1                                         \n",
       "Covariance Type:            nonrobust                                         \n",
       "==============================================================================\n",
       "                 coef    std err          t      P>|t|      [0.025      0.975]\n",
       "------------------------------------------------------------------------------\n",
       "Intercept      0.0002      0.001      0.364      0.716      -0.001       0.001\n",
       "VIX           -0.2104      0.008    -25.552      0.000      -0.227      -0.194\n",
       "==============================================================================\n",
       "Omnibus:                       72.101   Durbin-Watson:                   2.173\n",
       "Prob(Omnibus):                  0.000   Jarque-Bera (JB):              486.353\n",
       "Skew:                           0.373   Prob(JB):                    2.45e-106\n",
       "Kurtosis:                       7.749   Cond. No.                         14.4\n",
       "==============================================================================\n",
       "\n",
       "Warnings:\n",
       "[1] Standard Errors assume that the covariance matrix of the errors is correctly specified.\n",
       "\"\"\""
      ]
     },
     "execution_count": 18,
     "metadata": {},
     "output_type": "execute_result"
    }
   ],
   "source": [
    "### Running regression for VIX\n",
    "vix_reg = smf.ols('Return ~ VIX', data=vix).fit()\n",
    "vix_reg.summary()"
   ]
  },
  {
   "cell_type": "code",
   "execution_count": 19,
   "metadata": {},
   "outputs": [
    {
     "data": {
      "image/png": "[encoded data removed]",
      "text/plain": [
       "<Figure size 720x432 with 1 Axes>"
      ]
     },
     "metadata": {
      "needs_background": "light"
     },
     "output_type": "display_data"
    }
   ],
   "source": [
    "### Scatter plot for 1-day stock return with SPTR\n",
    "fit_vix = np.polyfit(vix['VIX'], vix['Return'], deg=1)\n",
    "\n",
    "vix.plot(kind='scatter', x ='VIX', y='Return', figsize=(10,6))\n",
    "plt.xlabel('VIX 1-day return')\n",
    "plt.ylabel('1-day stock return')\n",
    "\n",
    "plt.plot(vix['VIX'], fit_vix[0]*vix['VIX'] + fit_sptr[1], color='red')\n",
    "plt.annotate('y={0:.4f} x'.format(fit_vix[0]), xy=(0.1, 0.03), fontsize=14)\n",
    "plt.title('1-day Return comparison with VIX')\n",
    "plt.savefig('1dayVix.jpeg')\n",
    "plt.show()"
   ]
  },
  {
   "cell_type": "code",
   "execution_count": 20,
   "metadata": {},
   "outputs": [
    {
     "data": {
      "text/html": [
       "<table class=\"simpletable\">\n",
       "<caption>OLS Regression Results</caption>\n",
       "<tr>\n",
       "  <th>Dep. Variable:</th>         <td>Return</td>      <th>  R-squared:         </th> <td>   0.850</td> \n",
       "</tr>\n",
       "<tr>\n",
       "  <th>Model:</th>                   <td>OLS</td>       <th>  Adj. R-squared:    </th> <td>   0.850</td> \n",
       "</tr>\n",
       "<tr>\n",
       "  <th>Method:</th>             <td>Least Squares</td>  <th>  F-statistic:       </th> <td>   1426.</td> \n",
       "</tr>\n",
       "<tr>\n",
       "  <th>Date:</th>             <td>Fri, 16 Oct 2020</td> <th>  Prob (F-statistic):</th> <td>8.85e-208</td>\n",
       "</tr>\n",
       "<tr>\n",
       "  <th>Time:</th>                 <td>18:57:11</td>     <th>  Log-Likelihood:    </th> <td>  1752.0</td> \n",
       "</tr>\n",
       "<tr>\n",
       "  <th>No. Observations:</th>      <td>   505</td>      <th>  AIC:               </th> <td>  -3498.</td> \n",
       "</tr>\n",
       "<tr>\n",
       "  <th>Df Residuals:</th>          <td>   502</td>      <th>  BIC:               </th> <td>  -3485.</td> \n",
       "</tr>\n",
       "<tr>\n",
       "  <th>Df Model:</th>              <td>     2</td>      <th>                     </th>     <td> </td>    \n",
       "</tr>\n",
       "<tr>\n",
       "  <th>Covariance Type:</th>      <td>nonrobust</td>    <th>                     </th>     <td> </td>    \n",
       "</tr>\n",
       "</table>\n",
       "<table class=\"simpletable\">\n",
       "<tr>\n",
       "      <td></td>         <th>coef</th>     <th>std err</th>      <th>t</th>      <th>P>|t|</th>  <th>[0.025</th>    <th>0.975]</th>  \n",
       "</tr>\n",
       "<tr>\n",
       "  <th>Intercept</th> <td>   -0.0002</td> <td>    0.000</td> <td>   -0.720</td> <td> 0.472</td> <td>   -0.001</td> <td>    0.000</td>\n",
       "</tr>\n",
       "<tr>\n",
       "  <th>mktrf</th>     <td>    0.7950</td> <td>    0.026</td> <td>   30.944</td> <td> 0.000</td> <td>    0.745</td> <td>    0.846</td>\n",
       "</tr>\n",
       "<tr>\n",
       "  <th>VIX</th>       <td>   -0.0088</td> <td>    0.008</td> <td>   -1.079</td> <td> 0.281</td> <td>   -0.025</td> <td>    0.007</td>\n",
       "</tr>\n",
       "</table>\n",
       "<table class=\"simpletable\">\n",
       "<tr>\n",
       "  <th>Omnibus:</th>       <td>67.455</td> <th>  Durbin-Watson:     </th> <td>   2.243</td>\n",
       "</tr>\n",
       "<tr>\n",
       "  <th>Prob(Omnibus):</th> <td> 0.000</td> <th>  Jarque-Bera (JB):  </th> <td> 387.343</td>\n",
       "</tr>\n",
       "<tr>\n",
       "  <th>Skew:</th>          <td>-0.389</td> <th>  Prob(JB):          </th> <td>7.75e-85</td>\n",
       "</tr>\n",
       "<tr>\n",
       "  <th>Kurtosis:</th>      <td> 7.219</td> <th>  Cond. No.          </th> <td>    78.9</td>\n",
       "</tr>\n",
       "</table><br/><br/>Warnings:<br/>[1] Standard Errors assume that the covariance matrix of the errors is correctly specified."
      ],
      "text/plain": [
       "<class 'statsmodels.iolib.summary.Summary'>\n",
       "\"\"\"\n",
       "                            OLS Regression Results                            \n",
       "==============================================================================\n",
       "Dep. Variable:                 Return   R-squared:                       0.850\n",
       "Model:                            OLS   Adj. R-squared:                  0.850\n",
       "Method:                 Least Squares   F-statistic:                     1426.\n",
       "Date:                Fri, 16 Oct 2020   Prob (F-statistic):          8.85e-208\n",
       "Time:                        18:57:11   Log-Likelihood:                 1752.0\n",
       "No. Observations:                 505   AIC:                            -3498.\n",
       "Df Residuals:                     502   BIC:                            -3485.\n",
       "Df Model:                           2                                         \n",
       "Covariance Type:            nonrobust                                         \n",
       "==============================================================================\n",
       "                 coef    std err          t      P>|t|      [0.025      0.975]\n",
       "------------------------------------------------------------------------------\n",
       "Intercept     -0.0002      0.000     -0.720      0.472      -0.001       0.000\n",
       "mktrf          0.7950      0.026     30.944      0.000       0.745       0.846\n",
       "VIX           -0.0088      0.008     -1.079      0.281      -0.025       0.007\n",
       "==============================================================================\n",
       "Omnibus:                       67.455   Durbin-Watson:                   2.243\n",
       "Prob(Omnibus):                  0.000   Jarque-Bera (JB):              387.343\n",
       "Skew:                          -0.389   Prob(JB):                     7.75e-85\n",
       "Kurtosis:                       7.219   Cond. No.                         78.9\n",
       "==============================================================================\n",
       "\n",
       "Warnings:\n",
       "[1] Standard Errors assume that the covariance matrix of the errors is correctly specified.\n",
       "\"\"\""
      ]
     },
     "execution_count": 20,
     "metadata": {},
     "output_type": "execute_result"
    }
   ],
   "source": [
    "### Regression to check if VIX is a new factor or not\n",
    "fac_reg = smf.ols('Return ~ mktrf + VIX', data=benchmark).fit()\n",
    "fac_reg.summary()"
   ]
  },
  {
   "cell_type": "markdown",
   "metadata": {},
   "source": [
    "### Question 2"
   ]
  },
  {
   "cell_type": "code",
   "execution_count": 21,
   "metadata": {},
   "outputs": [
    {
     "data": {
      "text/html": [
       "<div>\n",
       "<style scoped>\n",
       "    .dataframe tbody tr th:only-of-type {\n",
       "        vertical-align: middle;\n",
       "    }\n",
       "\n",
       "    .dataframe tbody tr th {\n",
       "        vertical-align: top;\n",
       "    }\n",
       "\n",
       "    .dataframe thead th {\n",
       "        text-align: right;\n",
       "    }\n",
       "</style>\n",
       "<table border=\"1\" class=\"dataframe\">\n",
       "  <thead>\n",
       "    <tr style=\"text-align: right;\">\n",
       "      <th></th>\n",
       "      <th>Long</th>\n",
       "      <th>Short</th>\n",
       "      <th>TotalReturn</th>\n",
       "    </tr>\n",
       "    <tr>\n",
       "      <th>Date</th>\n",
       "      <th></th>\n",
       "      <th></th>\n",
       "      <th></th>\n",
       "    </tr>\n",
       "  </thead>\n",
       "  <tbody>\n",
       "    <tr>\n",
       "      <th>2004-12-27</th>\n",
       "      <td>-0.013984</td>\n",
       "      <td>-0.000243</td>\n",
       "      <td>-0.014226</td>\n",
       "    </tr>\n",
       "    <tr>\n",
       "      <th>2004-12-28</th>\n",
       "      <td>0.025333</td>\n",
       "      <td>-0.012864</td>\n",
       "      <td>0.012469</td>\n",
       "    </tr>\n",
       "    <tr>\n",
       "      <th>2004-12-29</th>\n",
       "      <td>0.001706</td>\n",
       "      <td>-0.008492</td>\n",
       "      <td>-0.006786</td>\n",
       "    </tr>\n",
       "    <tr>\n",
       "      <th>2004-12-30</th>\n",
       "      <td>0.021827</td>\n",
       "      <td>-0.012614</td>\n",
       "      <td>0.009214</td>\n",
       "    </tr>\n",
       "    <tr>\n",
       "      <th>2004-12-31</th>\n",
       "      <td>0.017335</td>\n",
       "      <td>-0.009486</td>\n",
       "      <td>0.007849</td>\n",
       "    </tr>\n",
       "  </tbody>\n",
       "</table>\n",
       "</div>"
      ],
      "text/plain": [
       "                Long     Short  TotalReturn\n",
       "Date                                       \n",
       "2004-12-27 -0.013984 -0.000243    -0.014226\n",
       "2004-12-28  0.025333 -0.012864     0.012469\n",
       "2004-12-29  0.001706 -0.008492    -0.006786\n",
       "2004-12-30  0.021827 -0.012614     0.009214\n",
       "2004-12-31  0.017335 -0.009486     0.007849"
      ]
     },
     "execution_count": 21,
     "metadata": {},
     "output_type": "execute_result"
    }
   ],
   "source": [
    "### Importing return of the contra01 strategy\n",
    "hedge = pd.read_excel('WeightedTCReturn.xlsx')\n",
    "hedge['Date'] = pd.to_datetime(hedge['Date'], format='%m/%d/%Y')\n",
    "hedge = hedge.set_index('Date')\n",
    "### Removing the data after 2004\n",
    "hedge = hedge[:'1/1/2005']\n",
    "hedge.tail()"
   ]
  },
  {
   "cell_type": "code",
   "execution_count": 22,
   "metadata": {},
   "outputs": [],
   "source": [
    "### Function for finding statistics \n",
    "### Input Series of return\n",
    "def statistics(data, label):\n",
    "    ann_return = data.mean()*252*100\n",
    "    ann_vol = data.std()*math.sqrt(252)*100\n",
    "    print(label + ' annualized Return is {:0.2f}%'.format(ann_return))\n",
    "    print(label + ' annualized Volatility is {:0.2f}%'.format(ann_vol))\n",
    "    print(label + ' sharpe Ratio is {:0.2f}'.format(ann_return/ann_vol))\n",
    "    return"
   ]
  },
  {
   "cell_type": "code",
   "execution_count": 23,
   "metadata": {},
   "outputs": [
    {
     "name": "stdout",
     "output_type": "stream",
     "text": [
      "Total annualized Return is 110.75%\n",
      "Total annualized Volatility is 24.45%\n",
      "Total sharpe Ratio is 4.53\n"
     ]
    }
   ],
   "source": [
    "### Finding the basic statistics of the hedgefund return\n",
    "statistics(hedge['TotalReturn'],'Total')"
   ]
  },
  {
   "cell_type": "markdown",
   "metadata": {},
   "source": [
    "### CAPM"
   ]
  },
  {
   "cell_type": "code",
   "execution_count": 24,
   "metadata": {},
   "outputs": [
    {
     "data": {
      "text/html": [
       "<div>\n",
       "<style scoped>\n",
       "    .dataframe tbody tr th:only-of-type {\n",
       "        vertical-align: middle;\n",
       "    }\n",
       "\n",
       "    .dataframe tbody tr th {\n",
       "        vertical-align: top;\n",
       "    }\n",
       "\n",
       "    .dataframe thead th {\n",
       "        text-align: right;\n",
       "    }\n",
       "</style>\n",
       "<table border=\"1\" class=\"dataframe\">\n",
       "  <thead>\n",
       "    <tr style=\"text-align: right;\">\n",
       "      <th></th>\n",
       "      <th>Long</th>\n",
       "      <th>Short</th>\n",
       "      <th>TotalReturn</th>\n",
       "      <th>Beta</th>\n",
       "      <th>Return</th>\n",
       "      <th>SPX</th>\n",
       "      <th>SPTR</th>\n",
       "      <th>VIX</th>\n",
       "      <th>mktrf</th>\n",
       "      <th>smb</th>\n",
       "      <th>hml</th>\n",
       "      <th>rf</th>\n",
       "      <th>umd</th>\n",
       "    </tr>\n",
       "    <tr>\n",
       "      <th>Date</th>\n",
       "      <th></th>\n",
       "      <th></th>\n",
       "      <th></th>\n",
       "      <th></th>\n",
       "      <th></th>\n",
       "      <th></th>\n",
       "      <th></th>\n",
       "      <th></th>\n",
       "      <th></th>\n",
       "      <th></th>\n",
       "      <th></th>\n",
       "      <th></th>\n",
       "      <th></th>\n",
       "    </tr>\n",
       "  </thead>\n",
       "  <tbody>\n",
       "    <tr>\n",
       "      <th>2001-01-02</th>\n",
       "      <td>0.105302</td>\n",
       "      <td>0.016923</td>\n",
       "      <td>0.122225</td>\n",
       "      <td>0.733649</td>\n",
       "      <td>-0.029762</td>\n",
       "      <td>-0.028032</td>\n",
       "      <td>-0.028032</td>\n",
       "      <td>0.116946</td>\n",
       "      <td>-0.033912</td>\n",
       "      <td>-0.0039</td>\n",
       "      <td>0.0209</td>\n",
       "      <td>0.00026</td>\n",
       "      <td>-0.0123</td>\n",
       "    </tr>\n",
       "    <tr>\n",
       "      <th>2001-01-03</th>\n",
       "      <td>0.100026</td>\n",
       "      <td>-0.051626</td>\n",
       "      <td>0.048400</td>\n",
       "      <td>0.792108</td>\n",
       "      <td>0.055215</td>\n",
       "      <td>0.050099</td>\n",
       "      <td>0.050230</td>\n",
       "      <td>-0.113038</td>\n",
       "      <td>0.054113</td>\n",
       "      <td>0.0097</td>\n",
       "      <td>-0.0491</td>\n",
       "      <td>0.00026</td>\n",
       "      <td>-0.0727</td>\n",
       "    </tr>\n",
       "    <tr>\n",
       "      <th>2001-01-04</th>\n",
       "      <td>-0.014663</td>\n",
       "      <td>-0.048048</td>\n",
       "      <td>-0.062711</td>\n",
       "      <td>0.793228</td>\n",
       "      <td>-0.005814</td>\n",
       "      <td>-0.010552</td>\n",
       "      <td>-0.010528</td>\n",
       "      <td>0.013910</td>\n",
       "      <td>-0.012027</td>\n",
       "      <td>0.0082</td>\n",
       "      <td>-0.0014</td>\n",
       "      <td>0.00026</td>\n",
       "      <td>-0.0415</td>\n",
       "    </tr>\n",
       "    <tr>\n",
       "      <th>2001-01-05</th>\n",
       "      <td>0.003538</td>\n",
       "      <td>0.020182</td>\n",
       "      <td>0.023720</td>\n",
       "      <td>0.820053</td>\n",
       "      <td>-0.040936</td>\n",
       "      <td>-0.026242</td>\n",
       "      <td>-0.026236</td>\n",
       "      <td>0.063033</td>\n",
       "      <td>-0.028681</td>\n",
       "      <td>0.0027</td>\n",
       "      <td>0.0242</td>\n",
       "      <td>0.00026</td>\n",
       "      <td>0.0066</td>\n",
       "    </tr>\n",
       "    <tr>\n",
       "      <th>2001-01-08</th>\n",
       "      <td>-0.016666</td>\n",
       "      <td>0.035251</td>\n",
       "      <td>0.018585</td>\n",
       "      <td>0.820903</td>\n",
       "      <td>-0.003049</td>\n",
       "      <td>-0.001918</td>\n",
       "      <td>-0.001710</td>\n",
       "      <td>0.040809</td>\n",
       "      <td>-0.003693</td>\n",
       "      <td>-0.0054</td>\n",
       "      <td>0.0128</td>\n",
       "      <td>0.00026</td>\n",
       "      <td>0.0017</td>\n",
       "    </tr>\n",
       "  </tbody>\n",
       "</table>\n",
       "</div>"
      ],
      "text/plain": [
       "                Long     Short  TotalReturn      Beta    Return       SPX  \\\n",
       "Date                                                                        \n",
       "2001-01-02  0.105302  0.016923     0.122225  0.733649 -0.029762 -0.028032   \n",
       "2001-01-03  0.100026 -0.051626     0.048400  0.792108  0.055215  0.050099   \n",
       "2001-01-04 -0.014663 -0.048048    -0.062711  0.793228 -0.005814 -0.010552   \n",
       "2001-01-05  0.003538  0.020182     0.023720  0.820053 -0.040936 -0.026242   \n",
       "2001-01-08 -0.016666  0.035251     0.018585  0.820903 -0.003049 -0.001918   \n",
       "\n",
       "                SPTR       VIX     mktrf     smb     hml       rf     umd  \n",
       "Date                                                                       \n",
       "2001-01-02 -0.028032  0.116946 -0.033912 -0.0039  0.0209  0.00026 -0.0123  \n",
       "2001-01-03  0.050230 -0.113038  0.054113  0.0097 -0.0491  0.00026 -0.0727  \n",
       "2001-01-04 -0.010528  0.013910 -0.012027  0.0082 -0.0014  0.00026 -0.0415  \n",
       "2001-01-05 -0.026236  0.063033 -0.028681  0.0027  0.0242  0.00026  0.0066  \n",
       "2001-01-08 -0.001710  0.040809 -0.003693 -0.0054  0.0128  0.00026  0.0017  "
      ]
     },
     "execution_count": 24,
     "metadata": {},
     "output_type": "execute_result"
    }
   ],
   "source": [
    "### Regressing the return with SPTR\n",
    "ff_data = hedge.merge(data, left_index = True, right_index=True, how='left')\n",
    "ff_data.head()"
   ]
  },
  {
   "cell_type": "code",
   "execution_count": 25,
   "metadata": {},
   "outputs": [
    {
     "data": {
      "text/html": [
       "<div>\n",
       "<style scoped>\n",
       "    .dataframe tbody tr th:only-of-type {\n",
       "        vertical-align: middle;\n",
       "    }\n",
       "\n",
       "    .dataframe tbody tr th {\n",
       "        vertical-align: top;\n",
       "    }\n",
       "\n",
       "    .dataframe thead th {\n",
       "        text-align: right;\n",
       "    }\n",
       "</style>\n",
       "<table border=\"1\" class=\"dataframe\">\n",
       "  <thead>\n",
       "    <tr style=\"text-align: right;\">\n",
       "      <th></th>\n",
       "      <th>Long</th>\n",
       "      <th>Short</th>\n",
       "      <th>TotalReturn</th>\n",
       "      <th>Beta</th>\n",
       "      <th>Return</th>\n",
       "      <th>SPX</th>\n",
       "      <th>SPTR</th>\n",
       "      <th>VIX</th>\n",
       "      <th>mktrf</th>\n",
       "      <th>smb</th>\n",
       "      <th>hml</th>\n",
       "      <th>rf</th>\n",
       "      <th>umd</th>\n",
       "    </tr>\n",
       "    <tr>\n",
       "      <th>Date</th>\n",
       "      <th></th>\n",
       "      <th></th>\n",
       "      <th></th>\n",
       "      <th></th>\n",
       "      <th></th>\n",
       "      <th></th>\n",
       "      <th></th>\n",
       "      <th></th>\n",
       "      <th></th>\n",
       "      <th></th>\n",
       "      <th></th>\n",
       "      <th></th>\n",
       "      <th></th>\n",
       "    </tr>\n",
       "  </thead>\n",
       "  <tbody>\n",
       "    <tr>\n",
       "      <th>2004-12-27</th>\n",
       "      <td>-0.013984</td>\n",
       "      <td>-0.000243</td>\n",
       "      <td>-0.014226</td>\n",
       "      <td>0.614172</td>\n",
       "      <td>-0.001526</td>\n",
       "      <td>-0.004305</td>\n",
       "      <td>-0.004305</td>\n",
       "      <td>0.081033</td>\n",
       "      <td>-0.003992</td>\n",
       "      <td>-0.0020</td>\n",
       "      <td>-0.0003</td>\n",
       "      <td>0.00007</td>\n",
       "      <td>-0.0059</td>\n",
       "    </tr>\n",
       "    <tr>\n",
       "      <th>2004-12-28</th>\n",
       "      <td>0.025333</td>\n",
       "      <td>-0.012864</td>\n",
       "      <td>0.012469</td>\n",
       "      <td>0.599147</td>\n",
       "      <td>-0.000764</td>\n",
       "      <td>0.007154</td>\n",
       "      <td>0.007167</td>\n",
       "      <td>-0.011532</td>\n",
       "      <td>0.008032</td>\n",
       "      <td>0.0074</td>\n",
       "      <td>-0.0013</td>\n",
       "      <td>0.00007</td>\n",
       "      <td>0.0041</td>\n",
       "    </tr>\n",
       "    <tr>\n",
       "      <th>2004-12-29</th>\n",
       "      <td>0.001706</td>\n",
       "      <td>-0.008492</td>\n",
       "      <td>-0.006786</td>\n",
       "      <td>0.609069</td>\n",
       "      <td>0.003823</td>\n",
       "      <td>-0.000074</td>\n",
       "      <td>0.000072</td>\n",
       "      <td>-0.031667</td>\n",
       "      <td>0.000600</td>\n",
       "      <td>-0.0007</td>\n",
       "      <td>0.0003</td>\n",
       "      <td>0.00007</td>\n",
       "      <td>-0.0010</td>\n",
       "    </tr>\n",
       "    <tr>\n",
       "      <th>2004-12-30</th>\n",
       "      <td>0.021827</td>\n",
       "      <td>-0.012614</td>\n",
       "      <td>0.009214</td>\n",
       "      <td>0.609714</td>\n",
       "      <td>-0.002285</td>\n",
       "      <td>0.000082</td>\n",
       "      <td>0.000148</td>\n",
       "      <td>0.080895</td>\n",
       "      <td>0.000600</td>\n",
       "      <td>-0.0005</td>\n",
       "      <td>-0.0012</td>\n",
       "      <td>0.00007</td>\n",
       "      <td>-0.0045</td>\n",
       "    </tr>\n",
       "    <tr>\n",
       "      <th>2004-12-31</th>\n",
       "      <td>0.017335</td>\n",
       "      <td>-0.009486</td>\n",
       "      <td>0.007849</td>\n",
       "      <td>0.572151</td>\n",
       "      <td>0.001527</td>\n",
       "      <td>-0.001343</td>\n",
       "      <td>-0.001348</td>\n",
       "      <td>0.058121</td>\n",
       "      <td>-0.001099</td>\n",
       "      <td>0.0000</td>\n",
       "      <td>0.0020</td>\n",
       "      <td>0.00007</td>\n",
       "      <td>0.0004</td>\n",
       "    </tr>\n",
       "  </tbody>\n",
       "</table>\n",
       "</div>"
      ],
      "text/plain": [
       "                Long     Short  TotalReturn      Beta    Return       SPX  \\\n",
       "Date                                                                        \n",
       "2004-12-27 -0.013984 -0.000243    -0.014226  0.614172 -0.001526 -0.004305   \n",
       "2004-12-28  0.025333 -0.012864     0.012469  0.599147 -0.000764  0.007154   \n",
       "2004-12-29  0.001706 -0.008492    -0.006786  0.609069  0.003823 -0.000074   \n",
       "2004-12-30  0.021827 -0.012614     0.009214  0.609714 -0.002285  0.000082   \n",
       "2004-12-31  0.017335 -0.009486     0.007849  0.572151  0.001527 -0.001343   \n",
       "\n",
       "                SPTR       VIX     mktrf     smb     hml       rf     umd  \n",
       "Date                                                                       \n",
       "2004-12-27 -0.004305  0.081033 -0.003992 -0.0020 -0.0003  0.00007 -0.0059  \n",
       "2004-12-28  0.007167 -0.011532  0.008032  0.0074 -0.0013  0.00007  0.0041  \n",
       "2004-12-29  0.000072 -0.031667  0.000600 -0.0007  0.0003  0.00007 -0.0010  \n",
       "2004-12-30  0.000148  0.080895  0.000600 -0.0005 -0.0012  0.00007 -0.0045  \n",
       "2004-12-31 -0.001348  0.058121 -0.001099  0.0000  0.0020  0.00007  0.0004  "
      ]
     },
     "execution_count": 25,
     "metadata": {},
     "output_type": "execute_result"
    }
   ],
   "source": [
    "ff_data.tail()"
   ]
  },
  {
   "cell_type": "code",
   "execution_count": 26,
   "metadata": {},
   "outputs": [
    {
     "data": {
      "text/html": [
       "<table class=\"simpletable\">\n",
       "<caption>OLS Regression Results</caption>\n",
       "<tr>\n",
       "  <th>Dep. Variable:</th>       <td>TotalReturn</td>   <th>  R-squared:         </th> <td>   0.006</td>\n",
       "</tr>\n",
       "<tr>\n",
       "  <th>Model:</th>                   <td>OLS</td>       <th>  Adj. R-squared:    </th> <td>   0.005</td>\n",
       "</tr>\n",
       "<tr>\n",
       "  <th>Method:</th>             <td>Least Squares</td>  <th>  F-statistic:       </th> <td>   6.067</td>\n",
       "</tr>\n",
       "<tr>\n",
       "  <th>Date:</th>             <td>Fri, 16 Oct 2020</td> <th>  Prob (F-statistic):</th>  <td>0.0139</td> \n",
       "</tr>\n",
       "<tr>\n",
       "  <th>Time:</th>                 <td>18:57:12</td>     <th>  Log-Likelihood:    </th> <td>  2768.8</td>\n",
       "</tr>\n",
       "<tr>\n",
       "  <th>No. Observations:</th>      <td>  1004</td>      <th>  AIC:               </th> <td>  -5534.</td>\n",
       "</tr>\n",
       "<tr>\n",
       "  <th>Df Residuals:</th>          <td>  1002</td>      <th>  BIC:               </th> <td>  -5524.</td>\n",
       "</tr>\n",
       "<tr>\n",
       "  <th>Df Model:</th>              <td>     1</td>      <th>                     </th>     <td> </td>   \n",
       "</tr>\n",
       "<tr>\n",
       "  <th>Covariance Type:</th>      <td>nonrobust</td>    <th>                     </th>     <td> </td>   \n",
       "</tr>\n",
       "</table>\n",
       "<table class=\"simpletable\">\n",
       "<tr>\n",
       "      <td></td>         <th>coef</th>     <th>std err</th>      <th>t</th>      <th>P>|t|</th>  <th>[0.025</th>    <th>0.975]</th>  \n",
       "</tr>\n",
       "<tr>\n",
       "  <th>Intercept</th> <td>    0.0044</td> <td>    0.000</td> <td>    9.037</td> <td> 0.000</td> <td>    0.003</td> <td>    0.005</td>\n",
       "</tr>\n",
       "<tr>\n",
       "  <th>mktrf</th>     <td>    0.0989</td> <td>    0.040</td> <td>    2.463</td> <td> 0.014</td> <td>    0.020</td> <td>    0.178</td>\n",
       "</tr>\n",
       "</table>\n",
       "<table class=\"simpletable\">\n",
       "<tr>\n",
       "  <th>Omnibus:</th>       <td>175.853</td> <th>  Durbin-Watson:     </th> <td>   1.725</td> \n",
       "</tr>\n",
       "<tr>\n",
       "  <th>Prob(Omnibus):</th> <td> 0.000</td>  <th>  Jarque-Bera (JB):  </th> <td> 963.403</td> \n",
       "</tr>\n",
       "<tr>\n",
       "  <th>Skew:</th>          <td> 0.681</td>  <th>  Prob(JB):          </th> <td>6.31e-210</td>\n",
       "</tr>\n",
       "<tr>\n",
       "  <th>Kurtosis:</th>      <td> 7.602</td>  <th>  Cond. No.          </th> <td>    82.8</td> \n",
       "</tr>\n",
       "</table><br/><br/>Warnings:<br/>[1] Standard Errors assume that the covariance matrix of the errors is correctly specified."
      ],
      "text/plain": [
       "<class 'statsmodels.iolib.summary.Summary'>\n",
       "\"\"\"\n",
       "                            OLS Regression Results                            \n",
       "==============================================================================\n",
       "Dep. Variable:            TotalReturn   R-squared:                       0.006\n",
       "Model:                            OLS   Adj. R-squared:                  0.005\n",
       "Method:                 Least Squares   F-statistic:                     6.067\n",
       "Date:                Fri, 16 Oct 2020   Prob (F-statistic):             0.0139\n",
       "Time:                        18:57:12   Log-Likelihood:                 2768.8\n",
       "No. Observations:                1004   AIC:                            -5534.\n",
       "Df Residuals:                    1002   BIC:                            -5524.\n",
       "Df Model:                           1                                         \n",
       "Covariance Type:            nonrobust                                         \n",
       "==============================================================================\n",
       "                 coef    std err          t      P>|t|      [0.025      0.975]\n",
       "------------------------------------------------------------------------------\n",
       "Intercept      0.0044      0.000      9.037      0.000       0.003       0.005\n",
       "mktrf          0.0989      0.040      2.463      0.014       0.020       0.178\n",
       "==============================================================================\n",
       "Omnibus:                      175.853   Durbin-Watson:                   1.725\n",
       "Prob(Omnibus):                  0.000   Jarque-Bera (JB):              963.403\n",
       "Skew:                           0.681   Prob(JB):                    6.31e-210\n",
       "Kurtosis:                       7.602   Cond. No.                         82.8\n",
       "==============================================================================\n",
       "\n",
       "Warnings:\n",
       "[1] Standard Errors assume that the covariance matrix of the errors is correctly specified.\n",
       "\"\"\""
      ]
     },
     "execution_count": 26,
     "metadata": {},
     "output_type": "execute_result"
    }
   ],
   "source": [
    "### Running the CAPM regression \n",
    "capm_reg = smf.ols('TotalReturn ~ mktrf', data= ff_data).fit()\n",
    "capm_reg.summary()"
   ]
  },
  {
   "cell_type": "code",
   "execution_count": 27,
   "metadata": {},
   "outputs": [
    {
     "data": {
      "text/html": [
       "<table class=\"simpletable\">\n",
       "<caption>OLS Regression Results</caption>\n",
       "<tr>\n",
       "  <th>Dep. Variable:</th>       <td>TotalReturn</td>   <th>  R-squared:         </th> <td>   0.013</td>\n",
       "</tr>\n",
       "<tr>\n",
       "  <th>Model:</th>                   <td>OLS</td>       <th>  Adj. R-squared:    </th> <td>   0.009</td>\n",
       "</tr>\n",
       "<tr>\n",
       "  <th>Method:</th>             <td>Least Squares</td>  <th>  F-statistic:       </th> <td>   3.288</td>\n",
       "</tr>\n",
       "<tr>\n",
       "  <th>Date:</th>             <td>Fri, 16 Oct 2020</td> <th>  Prob (F-statistic):</th>  <td>0.0109</td> \n",
       "</tr>\n",
       "<tr>\n",
       "  <th>Time:</th>                 <td>18:57:12</td>     <th>  Log-Likelihood:    </th> <td>  2772.3</td>\n",
       "</tr>\n",
       "<tr>\n",
       "  <th>No. Observations:</th>      <td>  1004</td>      <th>  AIC:               </th> <td>  -5535.</td>\n",
       "</tr>\n",
       "<tr>\n",
       "  <th>Df Residuals:</th>          <td>   999</td>      <th>  BIC:               </th> <td>  -5510.</td>\n",
       "</tr>\n",
       "<tr>\n",
       "  <th>Df Model:</th>              <td>     4</td>      <th>                     </th>     <td> </td>   \n",
       "</tr>\n",
       "<tr>\n",
       "  <th>Covariance Type:</th>      <td>nonrobust</td>    <th>                     </th>     <td> </td>   \n",
       "</tr>\n",
       "</table>\n",
       "<table class=\"simpletable\">\n",
       "<tr>\n",
       "      <td></td>         <th>coef</th>     <th>std err</th>      <th>t</th>      <th>P>|t|</th>  <th>[0.025</th>    <th>0.975]</th>  \n",
       "</tr>\n",
       "<tr>\n",
       "  <th>Intercept</th> <td>    0.0044</td> <td>    0.000</td> <td>    9.116</td> <td> 0.000</td> <td>    0.003</td> <td>    0.005</td>\n",
       "</tr>\n",
       "<tr>\n",
       "  <th>mktrf</th>     <td>    0.0528</td> <td>    0.051</td> <td>    1.034</td> <td> 0.301</td> <td>   -0.047</td> <td>    0.153</td>\n",
       "</tr>\n",
       "<tr>\n",
       "  <th>smb</th>       <td>   -0.1506</td> <td>    0.087</td> <td>   -1.721</td> <td> 0.086</td> <td>   -0.322</td> <td>    0.021</td>\n",
       "</tr>\n",
       "<tr>\n",
       "  <th>hml</th>       <td>    0.0512</td> <td>    0.113</td> <td>    0.452</td> <td> 0.651</td> <td>   -0.171</td> <td>    0.274</td>\n",
       "</tr>\n",
       "<tr>\n",
       "  <th>umd</th>       <td>   -0.1129</td> <td>    0.066</td> <td>   -1.708</td> <td> 0.088</td> <td>   -0.243</td> <td>    0.017</td>\n",
       "</tr>\n",
       "</table>\n",
       "<table class=\"simpletable\">\n",
       "<tr>\n",
       "  <th>Omnibus:</th>       <td>152.925</td> <th>  Durbin-Watson:     </th> <td>   1.739</td> \n",
       "</tr>\n",
       "<tr>\n",
       "  <th>Prob(Omnibus):</th> <td> 0.000</td>  <th>  Jarque-Bera (JB):  </th> <td> 778.139</td> \n",
       "</tr>\n",
       "<tr>\n",
       "  <th>Skew:</th>          <td> 0.593</td>  <th>  Prob(JB):          </th> <td>1.07e-169</td>\n",
       "</tr>\n",
       "<tr>\n",
       "  <th>Kurtosis:</th>      <td> 7.147</td>  <th>  Cond. No.          </th> <td>    256.</td> \n",
       "</tr>\n",
       "</table><br/><br/>Warnings:<br/>[1] Standard Errors assume that the covariance matrix of the errors is correctly specified."
      ],
      "text/plain": [
       "<class 'statsmodels.iolib.summary.Summary'>\n",
       "\"\"\"\n",
       "                            OLS Regression Results                            \n",
       "==============================================================================\n",
       "Dep. Variable:            TotalReturn   R-squared:                       0.013\n",
       "Model:                            OLS   Adj. R-squared:                  0.009\n",
       "Method:                 Least Squares   F-statistic:                     3.288\n",
       "Date:                Fri, 16 Oct 2020   Prob (F-statistic):             0.0109\n",
       "Time:                        18:57:12   Log-Likelihood:                 2772.3\n",
       "No. Observations:                1004   AIC:                            -5535.\n",
       "Df Residuals:                     999   BIC:                            -5510.\n",
       "Df Model:                           4                                         \n",
       "Covariance Type:            nonrobust                                         \n",
       "==============================================================================\n",
       "                 coef    std err          t      P>|t|      [0.025      0.975]\n",
       "------------------------------------------------------------------------------\n",
       "Intercept      0.0044      0.000      9.116      0.000       0.003       0.005\n",
       "mktrf          0.0528      0.051      1.034      0.301      -0.047       0.153\n",
       "smb           -0.1506      0.087     -1.721      0.086      -0.322       0.021\n",
       "hml            0.0512      0.113      0.452      0.651      -0.171       0.274\n",
       "umd           -0.1129      0.066     -1.708      0.088      -0.243       0.017\n",
       "==============================================================================\n",
       "Omnibus:                      152.925   Durbin-Watson:                   1.739\n",
       "Prob(Omnibus):                  0.000   Jarque-Bera (JB):              778.139\n",
       "Skew:                           0.593   Prob(JB):                    1.07e-169\n",
       "Kurtosis:                       7.147   Cond. No.                         256.\n",
       "==============================================================================\n",
       "\n",
       "Warnings:\n",
       "[1] Standard Errors assume that the covariance matrix of the errors is correctly specified.\n",
       "\"\"\""
      ]
     },
     "execution_count": 27,
     "metadata": {},
     "output_type": "execute_result"
    }
   ],
   "source": [
    "### Running the Fama French Regression\n",
    "ff_reg = smf.ols('TotalReturn ~ mktrf + smb + hml + umd', data=ff_data).fit()\n",
    "ff_reg.summary()"
   ]
  },
  {
   "cell_type": "code",
   "execution_count": 28,
   "metadata": {},
   "outputs": [
    {
     "data": {
      "image/png": "[encoded data removed]",
      "text/plain": [
       "<Figure size 432x288 with 1 Axes>"
      ]
     },
     "metadata": {
      "needs_background": "light"
     },
     "output_type": "display_data"
    }
   ],
   "source": [
    "### Plotting the return in order\n",
    "return_order = list(ff_data['TotalReturn']).sort()\n",
    "\n",
    "kwargs = dict(alpha=0.5, bins=50)\n",
    "plt.hist((ff_data['TotalReturn']*100).sort_values(ascending=True), **kwargs, color='r', label='Portfolio')\n",
    "#plt.hist(Market_return*100, **kwargs, color='g', label='Market')\n",
    "plt.gca().set(title='Frequency Histogram of Returns', ylabel='Frequency', xlabel = 'Return in %')\n",
    "plt.axvline(0, linestyle='dashed', linewidth=2, color='g')\n",
    "plt.savefig('Return_hist.jpeg')\n",
    "plt.show()"
   ]
  },
  {
   "cell_type": "code",
   "execution_count": 29,
   "metadata": {},
   "outputs": [
    {
     "data": {
      "image/png": "[encoded data removed]",
      "text/plain": [
       "<Figure size 720x432 with 1 Axes>"
      ]
     },
     "metadata": {
      "needs_background": "light"
     },
     "output_type": "display_data"
    }
   ],
   "source": [
    "fig, ax = plt.subplots(figsize=(10,6))\n",
    "y1 = list((ff_data['TotalReturn']*100).sort_values(ascending=True))\n",
    "x = list(range(len(y1)))\n",
    "ax.plot(x, y1)\n",
    "ax.fill_between(x, y1)\n",
    "plt.title('Return Distribution')\n",
    "plt.ylabel('Return in %')\n",
    "ax.get_xaxis().set_visible(False)\n",
    "plt.savefig('Returndist.jpeg')\n",
    "plt.show()"
   ]
  },
  {
   "cell_type": "code",
   "execution_count": 30,
   "metadata": {},
   "outputs": [
    {
     "name": "stdout",
     "output_type": "stream",
     "text": [
      "0.6274900398406374 0.37250996015936255\n"
     ]
    }
   ],
   "source": [
    "### Finding fraction of losers and winners\n",
    "y1 = np.array(y1)\n",
    "winner = len(y1[y1>=0])\n",
    "loser = len(y1[y1 <0])\n",
    "\n",
    "print(winner/len(y1), loser/len(y1))"
   ]
  },
  {
   "cell_type": "code",
   "execution_count": 31,
   "metadata": {},
   "outputs": [
    {
     "name": "stdout",
     "output_type": "stream",
     "text": [
      "1.0186588044589246\n",
      "-0.8015545706994702\n"
     ]
    }
   ],
   "source": [
    "### Finding the quantile for loser and quantile for loser\n",
    "print(pd.Series(y1[y1 >=0]).quantile(0.5))\n",
    "\n",
    "print(pd.Series(y1[y1 < 0]).quantile(0.5))"
   ]
  },
  {
   "cell_type": "markdown",
   "metadata": {},
   "source": [
    "### Question 3"
   ]
  },
  {
   "cell_type": "code",
   "execution_count": 32,
   "metadata": {},
   "outputs": [
    {
     "data": {
      "text/html": [
       "<div>\n",
       "<style scoped>\n",
       "    .dataframe tbody tr th:only-of-type {\n",
       "        vertical-align: middle;\n",
       "    }\n",
       "\n",
       "    .dataframe tbody tr th {\n",
       "        vertical-align: top;\n",
       "    }\n",
       "\n",
       "    .dataframe thead th {\n",
       "        text-align: right;\n",
       "    }\n",
       "</style>\n",
       "<table border=\"1\" class=\"dataframe\">\n",
       "  <thead>\n",
       "    <tr style=\"text-align: right;\">\n",
       "      <th></th>\n",
       "      <th>Long</th>\n",
       "      <th>Short</th>\n",
       "      <th>TotalReturn</th>\n",
       "    </tr>\n",
       "    <tr>\n",
       "      <th>Date</th>\n",
       "      <th></th>\n",
       "      <th></th>\n",
       "      <th></th>\n",
       "    </tr>\n",
       "  </thead>\n",
       "  <tbody>\n",
       "    <tr>\n",
       "      <th>2009-12-24</th>\n",
       "      <td>0.001095</td>\n",
       "      <td>-0.008810</td>\n",
       "      <td>-0.007715</td>\n",
       "    </tr>\n",
       "    <tr>\n",
       "      <th>2009-12-28</th>\n",
       "      <td>-0.001951</td>\n",
       "      <td>-0.000890</td>\n",
       "      <td>-0.002842</td>\n",
       "    </tr>\n",
       "    <tr>\n",
       "      <th>2009-12-29</th>\n",
       "      <td>0.000924</td>\n",
       "      <td>-0.007746</td>\n",
       "      <td>-0.006822</td>\n",
       "    </tr>\n",
       "    <tr>\n",
       "      <th>2009-12-30</th>\n",
       "      <td>0.000217</td>\n",
       "      <td>-0.017385</td>\n",
       "      <td>-0.017168</td>\n",
       "    </tr>\n",
       "    <tr>\n",
       "      <th>2009-12-31</th>\n",
       "      <td>0.016242</td>\n",
       "      <td>0.006239</td>\n",
       "      <td>0.022481</td>\n",
       "    </tr>\n",
       "  </tbody>\n",
       "</table>\n",
       "</div>"
      ],
      "text/plain": [
       "                Long     Short  TotalReturn\n",
       "Date                                       \n",
       "2009-12-24  0.001095 -0.008810    -0.007715\n",
       "2009-12-28 -0.001951 -0.000890    -0.002842\n",
       "2009-12-29  0.000924 -0.007746    -0.006822\n",
       "2009-12-30  0.000217 -0.017385    -0.017168\n",
       "2009-12-31  0.016242  0.006239     0.022481"
      ]
     },
     "execution_count": 32,
     "metadata": {},
     "output_type": "execute_result"
    }
   ],
   "source": [
    "### Importing return of the contra01 strategy\n",
    "hedge = pd.read_excel('WeightedTCReturn.xlsx')\n",
    "hedge['Date'] = pd.to_datetime(hedge['Date'], format='%m/%d/%Y')\n",
    "hedge = hedge.set_index('Date')\n",
    "### Removing the data after 2004\n",
    "hedge = hedge['1/1/2005':]\n",
    "hedge.tail()"
   ]
  },
  {
   "cell_type": "code",
   "execution_count": 33,
   "metadata": {},
   "outputs": [
    {
     "name": "stdout",
     "output_type": "stream",
     "text": [
      "Total annualized Return is 39.07%\n",
      "Total annualized Volatility is 28.57%\n",
      "Total sharpe Ratio is 1.37\n",
      "Long annualized Return is -18.45%\n",
      "Long annualized Volatility is 32.57%\n",
      "Long sharpe Ratio is -0.57\n",
      "Short annualized Return is 57.52%\n",
      "Short annualized Volatility is 28.68%\n",
      "Short sharpe Ratio is 2.01\n"
     ]
    }
   ],
   "source": [
    "### Finding the basic statistics of the hedgefund return\n",
    "statistics(hedge['TotalReturn'],'Total')\n",
    "statistics(hedge['Long'],'Long')\n",
    "statistics(hedge['Short'],'Short')"
   ]
  },
  {
   "cell_type": "code",
   "execution_count": 34,
   "metadata": {},
   "outputs": [
    {
     "data": {
      "text/html": [
       "<div>\n",
       "<style scoped>\n",
       "    .dataframe tbody tr th:only-of-type {\n",
       "        vertical-align: middle;\n",
       "    }\n",
       "\n",
       "    .dataframe tbody tr th {\n",
       "        vertical-align: top;\n",
       "    }\n",
       "\n",
       "    .dataframe thead th {\n",
       "        text-align: right;\n",
       "    }\n",
       "</style>\n",
       "<table border=\"1\" class=\"dataframe\">\n",
       "  <thead>\n",
       "    <tr style=\"text-align: right;\">\n",
       "      <th></th>\n",
       "      <th>Long</th>\n",
       "      <th>Short</th>\n",
       "      <th>TotalReturn</th>\n",
       "      <th>Beta</th>\n",
       "      <th>Return</th>\n",
       "      <th>SPX</th>\n",
       "      <th>SPTR</th>\n",
       "      <th>VIX</th>\n",
       "      <th>mktrf</th>\n",
       "      <th>smb</th>\n",
       "      <th>hml</th>\n",
       "      <th>rf</th>\n",
       "      <th>umd</th>\n",
       "    </tr>\n",
       "    <tr>\n",
       "      <th>Date</th>\n",
       "      <th></th>\n",
       "      <th></th>\n",
       "      <th></th>\n",
       "      <th></th>\n",
       "      <th></th>\n",
       "      <th></th>\n",
       "      <th></th>\n",
       "      <th></th>\n",
       "      <th></th>\n",
       "      <th></th>\n",
       "      <th></th>\n",
       "      <th></th>\n",
       "      <th></th>\n",
       "    </tr>\n",
       "  </thead>\n",
       "  <tbody>\n",
       "    <tr>\n",
       "      <th>2005-01-03</th>\n",
       "      <td>-0.004495</td>\n",
       "      <td>0.017879</td>\n",
       "      <td>0.013384</td>\n",
       "      <td>0.585119</td>\n",
       "      <td>-0.009146</td>\n",
       "      <td>-0.008119</td>\n",
       "      <td>-0.008109</td>\n",
       "      <td>0.059443</td>\n",
       "      <td>-0.010049</td>\n",
       "      <td>-0.0056</td>\n",
       "      <td>-0.0019</td>\n",
       "      <td>0.00008</td>\n",
       "      <td>-0.0067</td>\n",
       "    </tr>\n",
       "    <tr>\n",
       "      <th>2005-01-04</th>\n",
       "      <td>-0.011104</td>\n",
       "      <td>0.024510</td>\n",
       "      <td>0.013406</td>\n",
       "      <td>0.610066</td>\n",
       "      <td>-0.012308</td>\n",
       "      <td>-0.011671</td>\n",
       "      <td>-0.011571</td>\n",
       "      <td>-0.007102</td>\n",
       "      <td>-0.012817</td>\n",
       "      <td>-0.0057</td>\n",
       "      <td>0.0049</td>\n",
       "      <td>0.00008</td>\n",
       "      <td>0.0025</td>\n",
       "    </tr>\n",
       "    <tr>\n",
       "      <th>2005-01-05</th>\n",
       "      <td>-0.014746</td>\n",
       "      <td>0.008916</td>\n",
       "      <td>-0.005830</td>\n",
       "      <td>0.613396</td>\n",
       "      <td>-0.003115</td>\n",
       "      <td>-0.003628</td>\n",
       "      <td>-0.003534</td>\n",
       "      <td>0.007868</td>\n",
       "      <td>-0.006181</td>\n",
       "      <td>-0.0106</td>\n",
       "      <td>0.0001</td>\n",
       "      <td>0.00008</td>\n",
       "      <td>0.0001</td>\n",
       "    </tr>\n",
       "    <tr>\n",
       "      <th>2005-01-06</th>\n",
       "      <td>0.002718</td>\n",
       "      <td>0.000669</td>\n",
       "      <td>0.003387</td>\n",
       "      <td>0.632305</td>\n",
       "      <td>0.006250</td>\n",
       "      <td>0.003506</td>\n",
       "      <td>0.003731</td>\n",
       "      <td>-0.036196</td>\n",
       "      <td>0.003406</td>\n",
       "      <td>-0.0014</td>\n",
       "      <td>0.0017</td>\n",
       "      <td>0.00008</td>\n",
       "      <td>0.0005</td>\n",
       "    </tr>\n",
       "    <tr>\n",
       "      <th>2005-01-07</th>\n",
       "      <td>-0.010462</td>\n",
       "      <td>-0.003421</td>\n",
       "      <td>-0.013883</td>\n",
       "      <td>0.632809</td>\n",
       "      <td>0.001553</td>\n",
       "      <td>-0.001431</td>\n",
       "      <td>-0.001418</td>\n",
       "      <td>-0.006627</td>\n",
       "      <td>-0.002297</td>\n",
       "      <td>-0.0075</td>\n",
       "      <td>-0.0003</td>\n",
       "      <td>0.00008</td>\n",
       "      <td>-0.0017</td>\n",
       "    </tr>\n",
       "  </tbody>\n",
       "</table>\n",
       "</div>"
      ],
      "text/plain": [
       "                Long     Short  TotalReturn      Beta    Return       SPX  \\\n",
       "Date                                                                        \n",
       "2005-01-03 -0.004495  0.017879     0.013384  0.585119 -0.009146 -0.008119   \n",
       "2005-01-04 -0.011104  0.024510     0.013406  0.610066 -0.012308 -0.011671   \n",
       "2005-01-05 -0.014746  0.008916    -0.005830  0.613396 -0.003115 -0.003628   \n",
       "2005-01-06  0.002718  0.000669     0.003387  0.632305  0.006250  0.003506   \n",
       "2005-01-07 -0.010462 -0.003421    -0.013883  0.632809  0.001553 -0.001431   \n",
       "\n",
       "                SPTR       VIX     mktrf     smb     hml       rf     umd  \n",
       "Date                                                                       \n",
       "2005-01-03 -0.008109  0.059443 -0.010049 -0.0056 -0.0019  0.00008 -0.0067  \n",
       "2005-01-04 -0.011571 -0.007102 -0.012817 -0.0057  0.0049  0.00008  0.0025  \n",
       "2005-01-05 -0.003534  0.007868 -0.006181 -0.0106  0.0001  0.00008  0.0001  \n",
       "2005-01-06  0.003731 -0.036196  0.003406 -0.0014  0.0017  0.00008  0.0005  \n",
       "2005-01-07 -0.001418 -0.006627 -0.002297 -0.0075 -0.0003  0.00008 -0.0017  "
      ]
     },
     "execution_count": 34,
     "metadata": {},
     "output_type": "execute_result"
    }
   ],
   "source": [
    "### Regressing the return with SPTR\n",
    "ff_data = hedge.merge(data, left_index = True, right_index=True, how='left')\n",
    "ff_data.head()"
   ]
  },
  {
   "cell_type": "code",
   "execution_count": 35,
   "metadata": {},
   "outputs": [
    {
     "data": {
      "text/html": [
       "<table class=\"simpletable\">\n",
       "<caption>OLS Regression Results</caption>\n",
       "<tr>\n",
       "  <th>Dep. Variable:</th>       <td>TotalReturn</td>   <th>  R-squared:         </th> <td>   0.000</td>\n",
       "</tr>\n",
       "<tr>\n",
       "  <th>Model:</th>                   <td>OLS</td>       <th>  Adj. R-squared:    </th> <td>  -0.001</td>\n",
       "</tr>\n",
       "<tr>\n",
       "  <th>Method:</th>             <td>Least Squares</td>  <th>  F-statistic:       </th> <td>  0.3539</td>\n",
       "</tr>\n",
       "<tr>\n",
       "  <th>Date:</th>             <td>Fri, 16 Oct 2020</td> <th>  Prob (F-statistic):</th>  <td> 0.552</td> \n",
       "</tr>\n",
       "<tr>\n",
       "  <th>Time:</th>                 <td>18:57:12</td>     <th>  Log-Likelihood:    </th> <td>  3272.2</td>\n",
       "</tr>\n",
       "<tr>\n",
       "  <th>No. Observations:</th>      <td>  1259</td>      <th>  AIC:               </th> <td>  -6540.</td>\n",
       "</tr>\n",
       "<tr>\n",
       "  <th>Df Residuals:</th>          <td>  1257</td>      <th>  BIC:               </th> <td>  -6530.</td>\n",
       "</tr>\n",
       "<tr>\n",
       "  <th>Df Model:</th>              <td>     1</td>      <th>                     </th>     <td> </td>   \n",
       "</tr>\n",
       "<tr>\n",
       "  <th>Covariance Type:</th>      <td>nonrobust</td>    <th>                     </th>     <td> </td>   \n",
       "</tr>\n",
       "</table>\n",
       "<table class=\"simpletable\">\n",
       "<tr>\n",
       "      <td></td>         <th>coef</th>     <th>std err</th>      <th>t</th>      <th>P>|t|</th>  <th>[0.025</th>    <th>0.975]</th>  \n",
       "</tr>\n",
       "<tr>\n",
       "  <th>Intercept</th> <td>    0.0015</td> <td>    0.001</td> <td>    3.048</td> <td> 0.002</td> <td>    0.001</td> <td>    0.003</td>\n",
       "</tr>\n",
       "<tr>\n",
       "  <th>mktrf</th>     <td>    0.0199</td> <td>    0.033</td> <td>    0.595</td> <td> 0.552</td> <td>   -0.046</td> <td>    0.085</td>\n",
       "</tr>\n",
       "</table>\n",
       "<table class=\"simpletable\">\n",
       "<tr>\n",
       "  <th>Omnibus:</th>       <td>368.934</td> <th>  Durbin-Watson:     </th> <td>   1.740</td>\n",
       "</tr>\n",
       "<tr>\n",
       "  <th>Prob(Omnibus):</th> <td> 0.000</td>  <th>  Jarque-Bera (JB):  </th> <td>3760.091</td>\n",
       "</tr>\n",
       "<tr>\n",
       "  <th>Skew:</th>          <td> 1.053</td>  <th>  Prob(JB):          </th> <td>    0.00</td>\n",
       "</tr>\n",
       "<tr>\n",
       "  <th>Kurtosis:</th>      <td>11.200</td>  <th>  Cond. No.          </th> <td>    65.8</td>\n",
       "</tr>\n",
       "</table><br/><br/>Warnings:<br/>[1] Standard Errors assume that the covariance matrix of the errors is correctly specified."
      ],
      "text/plain": [
       "<class 'statsmodels.iolib.summary.Summary'>\n",
       "\"\"\"\n",
       "                            OLS Regression Results                            \n",
       "==============================================================================\n",
       "Dep. Variable:            TotalReturn   R-squared:                       0.000\n",
       "Model:                            OLS   Adj. R-squared:                 -0.001\n",
       "Method:                 Least Squares   F-statistic:                    0.3539\n",
       "Date:                Fri, 16 Oct 2020   Prob (F-statistic):              0.552\n",
       "Time:                        18:57:12   Log-Likelihood:                 3272.2\n",
       "No. Observations:                1259   AIC:                            -6540.\n",
       "Df Residuals:                    1257   BIC:                            -6530.\n",
       "Df Model:                           1                                         \n",
       "Covariance Type:            nonrobust                                         \n",
       "==============================================================================\n",
       "                 coef    std err          t      P>|t|      [0.025      0.975]\n",
       "------------------------------------------------------------------------------\n",
       "Intercept      0.0015      0.001      3.048      0.002       0.001       0.003\n",
       "mktrf          0.0199      0.033      0.595      0.552      -0.046       0.085\n",
       "==============================================================================\n",
       "Omnibus:                      368.934   Durbin-Watson:                   1.740\n",
       "Prob(Omnibus):                  0.000   Jarque-Bera (JB):             3760.091\n",
       "Skew:                           1.053   Prob(JB):                         0.00\n",
       "Kurtosis:                      11.200   Cond. No.                         65.8\n",
       "==============================================================================\n",
       "\n",
       "Warnings:\n",
       "[1] Standard Errors assume that the covariance matrix of the errors is correctly specified.\n",
       "\"\"\""
      ]
     },
     "execution_count": 35,
     "metadata": {},
     "output_type": "execute_result"
    }
   ],
   "source": [
    "### Running the CAPM regression \n",
    "capm_reg = smf.ols('TotalReturn ~ mktrf', data= ff_data).fit()\n",
    "capm_reg.summary()"
   ]
  },
  {
   "cell_type": "code",
   "execution_count": 36,
   "metadata": {},
   "outputs": [
    {
     "data": {
      "text/html": [
       "<table class=\"simpletable\">\n",
       "<caption>OLS Regression Results</caption>\n",
       "<tr>\n",
       "  <th>Dep. Variable:</th>       <td>TotalReturn</td>   <th>  R-squared:         </th> <td>   0.002</td>\n",
       "</tr>\n",
       "<tr>\n",
       "  <th>Model:</th>                   <td>OLS</td>       <th>  Adj. R-squared:    </th> <td>  -0.001</td>\n",
       "</tr>\n",
       "<tr>\n",
       "  <th>Method:</th>             <td>Least Squares</td>  <th>  F-statistic:       </th> <td>  0.6826</td>\n",
       "</tr>\n",
       "<tr>\n",
       "  <th>Date:</th>             <td>Fri, 16 Oct 2020</td> <th>  Prob (F-statistic):</th>  <td> 0.563</td> \n",
       "</tr>\n",
       "<tr>\n",
       "  <th>Time:</th>                 <td>18:57:12</td>     <th>  Log-Likelihood:    </th> <td>  3273.0</td>\n",
       "</tr>\n",
       "<tr>\n",
       "  <th>No. Observations:</th>      <td>  1259</td>      <th>  AIC:               </th> <td>  -6538.</td>\n",
       "</tr>\n",
       "<tr>\n",
       "  <th>Df Residuals:</th>          <td>  1255</td>      <th>  BIC:               </th> <td>  -6518.</td>\n",
       "</tr>\n",
       "<tr>\n",
       "  <th>Df Model:</th>              <td>     3</td>      <th>                     </th>     <td> </td>   \n",
       "</tr>\n",
       "<tr>\n",
       "  <th>Covariance Type:</th>      <td>nonrobust</td>    <th>                     </th>     <td> </td>   \n",
       "</tr>\n",
       "</table>\n",
       "<table class=\"simpletable\">\n",
       "<tr>\n",
       "      <td></td>         <th>coef</th>     <th>std err</th>      <th>t</th>      <th>P>|t|</th>  <th>[0.025</th>    <th>0.975]</th>  \n",
       "</tr>\n",
       "<tr>\n",
       "  <th>Intercept</th> <td>    0.0015</td> <td>    0.001</td> <td>    3.030</td> <td> 0.002</td> <td>    0.001</td> <td>    0.003</td>\n",
       "</tr>\n",
       "<tr>\n",
       "  <th>mktrf</th>     <td>    0.0008</td> <td>    0.038</td> <td>    0.020</td> <td> 0.984</td> <td>   -0.074</td> <td>    0.075</td>\n",
       "</tr>\n",
       "<tr>\n",
       "  <th>smb</th>       <td>    0.0704</td> <td>    0.083</td> <td>    0.849</td> <td> 0.396</td> <td>   -0.092</td> <td>    0.233</td>\n",
       "</tr>\n",
       "<tr>\n",
       "  <th>hml</th>       <td>    0.0865</td> <td>    0.083</td> <td>    1.042</td> <td> 0.298</td> <td>   -0.076</td> <td>    0.249</td>\n",
       "</tr>\n",
       "</table>\n",
       "<table class=\"simpletable\">\n",
       "<tr>\n",
       "  <th>Omnibus:</th>       <td>362.913</td> <th>  Durbin-Watson:     </th> <td>   1.747</td>\n",
       "</tr>\n",
       "<tr>\n",
       "  <th>Prob(Omnibus):</th> <td> 0.000</td>  <th>  Jarque-Bera (JB):  </th> <td>3639.600</td>\n",
       "</tr>\n",
       "<tr>\n",
       "  <th>Skew:</th>          <td> 1.036</td>  <th>  Prob(JB):          </th> <td>    0.00</td>\n",
       "</tr>\n",
       "<tr>\n",
       "  <th>Kurtosis:</th>      <td>11.068</td>  <th>  Cond. No.          </th> <td>    172.</td>\n",
       "</tr>\n",
       "</table><br/><br/>Warnings:<br/>[1] Standard Errors assume that the covariance matrix of the errors is correctly specified."
      ],
      "text/plain": [
       "<class 'statsmodels.iolib.summary.Summary'>\n",
       "\"\"\"\n",
       "                            OLS Regression Results                            \n",
       "==============================================================================\n",
       "Dep. Variable:            TotalReturn   R-squared:                       0.002\n",
       "Model:                            OLS   Adj. R-squared:                 -0.001\n",
       "Method:                 Least Squares   F-statistic:                    0.6826\n",
       "Date:                Fri, 16 Oct 2020   Prob (F-statistic):              0.563\n",
       "Time:                        18:57:12   Log-Likelihood:                 3273.0\n",
       "No. Observations:                1259   AIC:                            -6538.\n",
       "Df Residuals:                    1255   BIC:                            -6518.\n",
       "Df Model:                           3                                         \n",
       "Covariance Type:            nonrobust                                         \n",
       "==============================================================================\n",
       "                 coef    std err          t      P>|t|      [0.025      0.975]\n",
       "------------------------------------------------------------------------------\n",
       "Intercept      0.0015      0.001      3.030      0.002       0.001       0.003\n",
       "mktrf          0.0008      0.038      0.020      0.984      -0.074       0.075\n",
       "smb            0.0704      0.083      0.849      0.396      -0.092       0.233\n",
       "hml            0.0865      0.083      1.042      0.298      -0.076       0.249\n",
       "==============================================================================\n",
       "Omnibus:                      362.913   Durbin-Watson:                   1.747\n",
       "Prob(Omnibus):                  0.000   Jarque-Bera (JB):             3639.600\n",
       "Skew:                           1.036   Prob(JB):                         0.00\n",
       "Kurtosis:                      11.068   Cond. No.                         172.\n",
       "==============================================================================\n",
       "\n",
       "Warnings:\n",
       "[1] Standard Errors assume that the covariance matrix of the errors is correctly specified.\n",
       "\"\"\""
      ]
     },
     "execution_count": 36,
     "metadata": {},
     "output_type": "execute_result"
    }
   ],
   "source": [
    "### Running the Fama French Regression\n",
    "ff_reg = smf.ols('TotalReturn ~ mktrf + smb + hml', data=ff_data).fit()\n",
    "ff_reg.summary()"
   ]
  },
  {
   "cell_type": "code",
   "execution_count": 37,
   "metadata": {},
   "outputs": [
    {
     "data": {
      "image/png": "[encoded data removed]",
      "text/plain": [
       "<Figure size 720x432 with 1 Axes>"
      ]
     },
     "metadata": {
      "needs_background": "light"
     },
     "output_type": "display_data"
    }
   ],
   "source": [
    "fig, ax = plt.subplots(figsize=(10,6))\n",
    "y1 = list((ff_data['TotalReturn']*100).sort_values(ascending=True))\n",
    "x = list(range(len(y1)))\n",
    "ax.plot(x, y1)\n",
    "ax.fill_between(x, y1)\n",
    "plt.title('Strategy Total Return Distribution')\n",
    "plt.ylabel('Return in %')\n",
    "ax.get_xaxis().set_visible(False)\n",
    "plt.savefig('Returndist_2.jpeg')\n",
    "plt.show()"
   ]
  },
  {
   "cell_type": "code",
   "execution_count": 38,
   "metadata": {},
   "outputs": [
    {
     "name": "stdout",
     "output_type": "stream",
     "text": [
      "0.5361397934868943 0.46386020651310567\n",
      "0.8375980691244981\n",
      "-0.8158489557981297\n"
     ]
    }
   ],
   "source": [
    "### Finding fraction of losers and winners\n",
    "y1 = np.array(y1)\n",
    "winner = len(y1[y1>=0])\n",
    "loser = len(y1[y1 <0])\n",
    "\n",
    "print(winner/len(y1), loser/len(y1))\n",
    "### Finding the quantile for loser and quantile for loser\n",
    "print(pd.Series(y1[y1 >=0]).quantile(0.5))\n",
    "\n",
    "print(pd.Series(y1[y1 < 0]).quantile(0.5))"
   ]
  },
  {
   "cell_type": "code",
   "execution_count": 39,
   "metadata": {},
   "outputs": [
    {
     "data": {
      "image/png": "[encoded data removed]",
      "text/plain": [
       "<Figure size 720x432 with 1 Axes>"
      ]
     },
     "metadata": {
      "needs_background": "light"
     },
     "output_type": "display_data"
    }
   ],
   "source": [
    "### For Long Position\n",
    "fig, ax = plt.subplots(figsize=(10,6))\n",
    "y1 = list((ff_data['Long']*100).sort_values(ascending=True))\n",
    "x = list(range(len(y1)))\n",
    "ax.plot(x, y1)\n",
    "ax.fill_between(x, y1)\n",
    "plt.title('Return Distribution for Long Position')\n",
    "plt.ylabel('Return in %')\n",
    "ax.get_xaxis().set_visible(False)\n",
    "plt.savefig('Returndist_Long.jpeg')\n",
    "plt.show()"
   ]
  },
  {
   "cell_type": "code",
   "execution_count": 40,
   "metadata": {},
   "outputs": [
    {
     "name": "stdout",
     "output_type": "stream",
     "text": [
      "0.4892772041302621 0.5107227958697379\n",
      "0.8196000823143426\n",
      "-0.9227437409671718\n"
     ]
    }
   ],
   "source": [
    "### Finding fraction of losers and winners\n",
    "y1 = np.array(y1)\n",
    "winner = len(y1[y1>=0])\n",
    "loser = len(y1[y1 <0])\n",
    "\n",
    "print(winner/len(y1), loser/len(y1))\n",
    "### Finding the quantile for loser and quantile for loser\n",
    "print(pd.Series(y1[y1 >=0]).quantile(0.5))\n",
    "\n",
    "print(pd.Series(y1[y1 < 0]).quantile(0.5))"
   ]
  },
  {
   "cell_type": "code",
   "execution_count": 41,
   "metadata": {},
   "outputs": [
    {
     "data": {
      "image/png": "[encoded data removed]",
      "text/plain": [
       "<Figure size 720x432 with 1 Axes>"
      ]
     },
     "metadata": {
      "needs_background": "light"
     },
     "output_type": "display_data"
    }
   ],
   "source": [
    "### For Long Position\n",
    "fig, ax = plt.subplots(figsize=(10,6))\n",
    "y1 = list((ff_data['Short']*100).sort_values(ascending=True))\n",
    "x = list(range(len(y1)))\n",
    "ax.plot(x, y1)\n",
    "ax.fill_between(x, y1)\n",
    "plt.title('Return Distribution for Short Position')\n",
    "plt.ylabel('Return in %')\n",
    "ax.get_xaxis().set_visible(False)\n",
    "plt.savefig('Returndist_short.jpeg')\n",
    "plt.show()"
   ]
  },
  {
   "cell_type": "code",
   "execution_count": 42,
   "metadata": {},
   "outputs": [
    {
     "name": "stdout",
     "output_type": "stream",
     "text": [
      "0.5472597299444003 0.4527402700555997\n",
      "0.8191479798295767\n",
      "-0.6840127978545804\n"
     ]
    }
   ],
   "source": [
    "### Finding fraction of losers and winners\n",
    "y1 = np.array(y1)\n",
    "winner = len(y1[y1>=0])\n",
    "loser = len(y1[y1 <0])\n",
    "\n",
    "print(winner/len(y1), loser/len(y1))\n",
    "### Finding the quantile for loser and quantile for loser\n",
    "print(pd.Series(y1[y1 >=0]).quantile(0.5))\n",
    "\n",
    "print(pd.Series(y1[y1 < 0]).quantile(0.5))"
   ]
  },
  {
   "cell_type": "code",
   "execution_count": 43,
   "metadata": {},
   "outputs": [
    {
     "data": {
      "image/png": "[encoded data removed]",
      "text/plain": [
       "<Figure size 720x432 with 1 Axes>"
      ]
     },
     "metadata": {
      "needs_background": "light"
     },
     "output_type": "display_data"
    }
   ],
   "source": [
    "### For Long Position\n",
    "fig, ax = plt.subplots(figsize=(10,6))\n",
    "y1 = list((ff_data['TotalReturn']*100).sort_values(ascending=True))\n",
    "y2 = list((ff_data['Long']*100).sort_values(ascending=True))\n",
    "y3 = list((ff_data['Short']*100).sort_values(ascending=True))\n",
    "x = list(range(len(y1)))\n",
    "ax.plot(x, y1, label='Strategy')\n",
    "ax.plot(x, y2, label ='Long Leg')\n",
    "ax.plot(x, y3, label ='Short Leg')\n",
    "#ax.fill_between(x, y1)\n",
    "plt.title('Return Distribution for Short Position')\n",
    "plt.ylabel('Return in %')\n",
    "ax.get_xaxis().set_visible(False)\n",
    "plt.legend()\n",
    "#plt.savefig('Returndist_short.jpeg')\n",
    "plt.show()"
   ]
  },
  {
   "cell_type": "code",
   "execution_count": 44,
   "metadata": {},
   "outputs": [
    {
     "data": {
      "image/png": "[encoded data removed]",
      "text/plain": [
       "<Figure size 720x432 with 1 Axes>"
      ]
     },
     "metadata": {
      "needs_background": "light"
     },
     "output_type": "display_data"
    }
   ],
   "source": [
    "### Forming index with overall strategy, long leg and short leg\n",
    "\n",
    "(ff_data['TotalReturn'] + 1).cumprod().plot(label='Strategy', figsize=(10,6))\n",
    "(ff_data['Long'] + 1).cumprod().plot(label='Long Leg')\n",
    "(ff_data['Short'] + 1).cumprod().plot(label='Short Leg')\n",
    "plt.title('Performance comparison')\n",
    "plt.ylabel('$ Value')\n",
    "plt.legend()\n",
    "plt.savefig('PerformanceComp.jpeg')\n",
    "plt.show()"
   ]
  },
  {
   "cell_type": "markdown",
   "metadata": {},
   "source": [
    "### Question 4"
   ]
  },
  {
   "cell_type": "code",
   "execution_count": 45,
   "metadata": {},
   "outputs": [
    {
     "data": {
      "text/html": [
       "<div>\n",
       "<style scoped>\n",
       "    .dataframe tbody tr th:only-of-type {\n",
       "        vertical-align: middle;\n",
       "    }\n",
       "\n",
       "    .dataframe tbody tr th {\n",
       "        vertical-align: top;\n",
       "    }\n",
       "\n",
       "    .dataframe thead th {\n",
       "        text-align: right;\n",
       "    }\n",
       "</style>\n",
       "<table border=\"1\" class=\"dataframe\">\n",
       "  <thead>\n",
       "    <tr style=\"text-align: right;\">\n",
       "      <th></th>\n",
       "      <th>NA</th>\n",
       "      <th>Energy</th>\n",
       "      <th>Materials</th>\n",
       "      <th>Industrials</th>\n",
       "      <th>Consumer Discretionary</th>\n",
       "      <th>Consumer Staples</th>\n",
       "      <th>Health Care</th>\n",
       "      <th>Financials</th>\n",
       "      <th>Information Technology</th>\n",
       "      <th>Telecommunication Services</th>\n",
       "      <th>Utilities</th>\n",
       "    </tr>\n",
       "    <tr>\n",
       "      <th>Date</th>\n",
       "      <th></th>\n",
       "      <th></th>\n",
       "      <th></th>\n",
       "      <th></th>\n",
       "      <th></th>\n",
       "      <th></th>\n",
       "      <th></th>\n",
       "      <th></th>\n",
       "      <th></th>\n",
       "      <th></th>\n",
       "      <th></th>\n",
       "    </tr>\n",
       "  </thead>\n",
       "  <tbody>\n",
       "    <tr>\n",
       "      <th>2009-12-24</th>\n",
       "      <td>0.031250</td>\n",
       "      <td>0.015625</td>\n",
       "      <td>-0.03125</td>\n",
       "      <td>-0.046875</td>\n",
       "      <td>0.093750</td>\n",
       "      <td>0.015625</td>\n",
       "      <td>-0.046875</td>\n",
       "      <td>0.125000</td>\n",
       "      <td>-0.140625</td>\n",
       "      <td>0.000000</td>\n",
       "      <td>-0.015625</td>\n",
       "    </tr>\n",
       "    <tr>\n",
       "      <th>2009-12-28</th>\n",
       "      <td>-0.031250</td>\n",
       "      <td>-0.031250</td>\n",
       "      <td>0.00000</td>\n",
       "      <td>0.078125</td>\n",
       "      <td>-0.109375</td>\n",
       "      <td>0.000000</td>\n",
       "      <td>-0.031250</td>\n",
       "      <td>0.109375</td>\n",
       "      <td>-0.015625</td>\n",
       "      <td>0.015625</td>\n",
       "      <td>0.015625</td>\n",
       "    </tr>\n",
       "    <tr>\n",
       "      <th>2009-12-29</th>\n",
       "      <td>0.015625</td>\n",
       "      <td>-0.015625</td>\n",
       "      <td>-0.03125</td>\n",
       "      <td>0.031250</td>\n",
       "      <td>0.046875</td>\n",
       "      <td>-0.031250</td>\n",
       "      <td>0.093750</td>\n",
       "      <td>-0.031250</td>\n",
       "      <td>-0.093750</td>\n",
       "      <td>0.031250</td>\n",
       "      <td>-0.015625</td>\n",
       "    </tr>\n",
       "    <tr>\n",
       "      <th>2009-12-30</th>\n",
       "      <td>0.125000</td>\n",
       "      <td>-0.031250</td>\n",
       "      <td>0.00000</td>\n",
       "      <td>-0.015625</td>\n",
       "      <td>-0.046875</td>\n",
       "      <td>-0.062500</td>\n",
       "      <td>-0.015625</td>\n",
       "      <td>0.078125</td>\n",
       "      <td>-0.015625</td>\n",
       "      <td>-0.031250</td>\n",
       "      <td>0.000000</td>\n",
       "    </tr>\n",
       "    <tr>\n",
       "      <th>2009-12-31</th>\n",
       "      <td>0.140625</td>\n",
       "      <td>-0.093750</td>\n",
       "      <td>0.03125</td>\n",
       "      <td>-0.093750</td>\n",
       "      <td>0.015625</td>\n",
       "      <td>0.015625</td>\n",
       "      <td>-0.093750</td>\n",
       "      <td>0.109375</td>\n",
       "      <td>-0.015625</td>\n",
       "      <td>-0.015625</td>\n",
       "      <td>0.000000</td>\n",
       "    </tr>\n",
       "  </tbody>\n",
       "</table>\n",
       "</div>"
      ],
      "text/plain": [
       "                  NA    Energy  Materials  Industrials  \\\n",
       "Date                                                     \n",
       "2009-12-24  0.031250  0.015625   -0.03125    -0.046875   \n",
       "2009-12-28 -0.031250 -0.031250    0.00000     0.078125   \n",
       "2009-12-29  0.015625 -0.015625   -0.03125     0.031250   \n",
       "2009-12-30  0.125000 -0.031250    0.00000    -0.015625   \n",
       "2009-12-31  0.140625 -0.093750    0.03125    -0.093750   \n",
       "\n",
       "            Consumer Discretionary  Consumer Staples  Health Care  Financials  \\\n",
       "Date                                                                            \n",
       "2009-12-24                0.093750          0.015625    -0.046875    0.125000   \n",
       "2009-12-28               -0.109375          0.000000    -0.031250    0.109375   \n",
       "2009-12-29                0.046875         -0.031250     0.093750   -0.031250   \n",
       "2009-12-30               -0.046875         -0.062500    -0.015625    0.078125   \n",
       "2009-12-31                0.015625          0.015625    -0.093750    0.109375   \n",
       "\n",
       "            Information Technology  Telecommunication Services  Utilities  \n",
       "Date                                                                       \n",
       "2009-12-24               -0.140625                    0.000000  -0.015625  \n",
       "2009-12-28               -0.015625                    0.015625   0.015625  \n",
       "2009-12-29               -0.093750                    0.031250  -0.015625  \n",
       "2009-12-30               -0.015625                   -0.031250   0.000000  \n",
       "2009-12-31               -0.015625                   -0.015625   0.000000  "
      ]
     },
     "execution_count": 45,
     "metadata": {},
     "output_type": "execute_result"
    }
   ],
   "source": [
    "weight = pd.read_excel('Weight.xlsx')\n",
    "weight.head()\n",
    "### Filling all the NA with 0s\n",
    "weight = weight.fillna(0)\n",
    "weight.head()\n",
    "weight['Date'] = pd.to_datetime(weight['Date'], format='%m/%d/%Y')\n",
    "weight.set_index('Date', inplace=True)\n",
    "\n",
    "### Subsetting data from 2005 to 2009\n",
    "weight = weight['1/1/2005':]\n",
    "weight.tail()"
   ]
  },
  {
   "cell_type": "code",
   "execution_count": 46,
   "metadata": {},
   "outputs": [
    {
     "data": {
      "text/plain": [
       "NA                            30.985915\n",
       "Energy                        30.985915\n",
       "Materials                     16.901408\n",
       "Industrials                   16.279070\n",
       "Consumer Discretionary        19.402985\n",
       "Consumer Staples               9.230769\n",
       "Health Care                   24.137931\n",
       "Financials                    33.333333\n",
       "Information Technology        24.096386\n",
       "Telecommunication Services     4.210526\n",
       "Utilities                      3.529412\n",
       "dtype: float64"
      ]
     },
     "execution_count": 46,
     "metadata": {},
     "output_type": "execute_result"
    }
   ],
   "source": [
    "### Finding the highest net exposure\n",
    "weight.max(axis=0)*100"
   ]
  },
  {
   "cell_type": "code",
   "execution_count": 47,
   "metadata": {},
   "outputs": [
    {
     "data": {
      "text/plain": [
       "NA                           -22.222222\n",
       "Energy                       -23.255814\n",
       "Materials                    -12.676056\n",
       "Industrials                  -18.987342\n",
       "Consumer Discretionary       -24.000000\n",
       "Consumer Staples              -8.000000\n",
       "Health Care                  -22.222222\n",
       "Financials                   -48.717949\n",
       "Information Technology       -23.595506\n",
       "Telecommunication Services    -5.128205\n",
       "Utilities                     -4.761905\n",
       "dtype: float64"
      ]
     },
     "execution_count": 47,
     "metadata": {},
     "output_type": "execute_result"
    }
   ],
   "source": [
    "weight.min(axis=0)*100"
   ]
  },
  {
   "cell_type": "code",
   "execution_count": 48,
   "metadata": {},
   "outputs": [
    {
     "data": {
      "image/png": "[encoded data removed]",
      "text/plain": [
       "<Figure size 720x432 with 1 Axes>"
      ]
     },
     "metadata": {
      "needs_background": "light"
     },
     "output_type": "display_data"
    }
   ],
   "source": [
    "kwargs = dict(alpha=0.6)\n",
    "(weight.min(axis=0)*100).plot.bar(color='red', figsize=(10,6),**kwargs, label='Minimum net exposure')\n",
    "(weight.max(axis=0)*100).plot.bar(color='green',**kwargs, label='Maximum net exposure')\n",
    "plt.ylabel('Net exposure in %')\n",
    "plt.title('GICS Sector max and min net exposure from 2005-2009')\n",
    "plt.legend(loc='lower left')\n",
    "plt.xticks(rotation=70)\n",
    "plt.yticks([-40,-30,-20,-10,0,10,20,30,40])\n",
    "plt.axhline(-10, linestyle = 'dashed', linewidth=2)\n",
    "plt.axhline(10, linestyle='dashed', linewidth=2)\n",
    "plt.savefig('MaxMinExposure.jpeg',bbox_inches='tight')\n",
    "plt.show()"
   ]
  },
  {
   "cell_type": "code",
   "execution_count": 49,
   "metadata": {},
   "outputs": [
    {
     "data": {
      "text/plain": [
       "NA                            0.112676\n",
       "Health Care                   0.070423\n",
       "Information Technology        0.056338\n",
       "Utilities                     0.000000\n",
       "Telecommunication Services    0.000000\n",
       "Materials                     0.000000\n",
       "Consumer Staples             -0.014085\n",
       "Financials                   -0.028169\n",
       "Industrials                  -0.028169\n",
       "Energy                       -0.070423\n",
       "Consumer Discretionary       -0.084507\n",
       "Name: 2008-09-15 00:00:00, dtype: float64"
      ]
     },
     "execution_count": 49,
     "metadata": {},
     "output_type": "execute_result"
    }
   ],
   "source": [
    "weight.loc['9/15/2008'].sort_values(ascending=False)"
   ]
  },
  {
   "cell_type": "code",
   "execution_count": 50,
   "metadata": {},
   "outputs": [
    {
     "name": "stdout",
     "output_type": "stream",
     "text": [
      "0.23943661971399993\n",
      "-0.22535211267200003\n",
      "0.014084507041999914\n"
     ]
    }
   ],
   "source": [
    "print(np.sum(weight.loc['9/15/2008'][weight.loc['9/15/2008'] >0]))\n",
    "print(np.sum(weight.loc['9/15/2008'][weight.loc['9/15/2008'] <0]))\n",
    "print(np.sum(weight.loc['9/15/2008']))"
   ]
  },
  {
   "cell_type": "code",
   "execution_count": 51,
   "metadata": {},
   "outputs": [
    {
     "data": {
      "image/png": "[encoded data removed]",
      "text/plain": [
       "<Figure size 720x432 with 1 Axes>"
      ]
     },
     "metadata": {
      "needs_background": "light"
     },
     "output_type": "display_data"
    }
   ],
   "source": [
    "(weight.loc['9/15/2008']*100).sort_values(ascending=True).plot.bar(figsize=(10,6))\n",
    "plt.ylabel('Net exposure in %')\n",
    "plt.title('GICS Sector net exposure 15-Sep-2008')\n",
    "#plt.legend(loc='lower right')\n",
    "plt.xticks(rotation=70)\n",
    "plt.axhline(0, linewidth=1, color='black')\n",
    "plt.savefig('SepExposure.jpeg',bbox_inches='tight')\n",
    "plt.show()"
   ]
  },
  {
   "cell_type": "code",
   "execution_count": 52,
   "metadata": {},
   "outputs": [
    {
     "data": {
      "text/plain": [
       "NA                            0.060976\n",
       "Industrials                   0.048780\n",
       "Consumer Staples              0.024390\n",
       "Financials                    0.012195\n",
       "Consumer Discretionary        0.012195\n",
       "Telecommunication Services    0.012195\n",
       "Utilities                     0.000000\n",
       "Health Care                   0.000000\n",
       "Materials                     0.000000\n",
       "Energy                       -0.012195\n",
       "Information Technology       -0.146341\n",
       "Name: 2007-02-27 00:00:00, dtype: float64"
      ]
     },
     "execution_count": 52,
     "metadata": {},
     "output_type": "execute_result"
    }
   ],
   "source": [
    "weight.loc['2/27/2007'].sort_values(ascending=False)"
   ]
  },
  {
   "cell_type": "code",
   "execution_count": 53,
   "metadata": {},
   "outputs": [
    {
     "data": {
      "image/png": "[encoded data removed]",
      "text/plain": [
       "<Figure size 720x432 with 1 Axes>"
      ]
     },
     "metadata": {
      "needs_background": "light"
     },
     "output_type": "display_data"
    }
   ],
   "source": [
    "(weight.loc['2/27/2007']*100).sort_values(ascending=True).plot.bar(figsize=(10,6))\n",
    "plt.ylabel('Net exposure in %')\n",
    "plt.title('GICS Sector net exposure 27-Feb-2007')\n",
    "#plt.legend(loc='lower right')\n",
    "plt.xticks(rotation=70)\n",
    "plt.axhline(0, linewidth=1, color='black')\n",
    "plt.savefig('FebExposure.jpeg',bbox_inches='tight')\n",
    "plt.show()"
   ]
  },
  {
   "cell_type": "code",
   "execution_count": 54,
   "metadata": {},
   "outputs": [
    {
     "name": "stdout",
     "output_type": "stream",
     "text": [
      "0.17073170731399992\n",
      "-0.158536585363\n",
      "0.01219512195099989\n"
     ]
    }
   ],
   "source": [
    "print(np.sum(weight.loc['2/27/2007'][weight.loc['2/27/2007'] >0]))\n",
    "print(np.sum(weight.loc['2/27/2007'][weight.loc['2/27/2007'] <0]))\n",
    "print(np.sum(weight.loc['2/27/2007']))"
   ]
  },
  {
   "cell_type": "code",
   "execution_count": 55,
   "metadata": {},
   "outputs": [
    {
     "data": {
      "image/png": "[encoded data removed]",
      "text/plain": [
       "<Figure size 720x432 with 1 Axes>"
      ]
     },
     "metadata": {
      "needs_background": "light"
     },
     "output_type": "display_data"
    }
   ],
   "source": [
    "df = pd.DataFrame({'15-Sep-2008':weight.loc['9/15/2008']*100, '27-Feb-2007': weight.loc['2/27/2007']*100})\n",
    "kwargs = dict(alpha=0.7)\n",
    "df.plot.bar(figsize=(10,6),**kwargs)\n",
    "plt.ylabel('Net exposure in %')\n",
    "plt.title('GICS Sector net exposure')\n",
    "plt.legend(loc='lower left')\n",
    "plt.xticks(rotation=70)\n",
    "plt.axhline(0, linewidth=1, color='black')\n",
    "plt.savefig('CompExposure.jpeg',bbox_inches='tight')\n",
    "plt.show()\n"
   ]
  },
  {
   "cell_type": "code",
   "execution_count": 56,
   "metadata": {},
   "outputs": [
    {
     "data": {
      "text/html": [
       "<div>\n",
       "<style scoped>\n",
       "    .dataframe tbody tr th:only-of-type {\n",
       "        vertical-align: middle;\n",
       "    }\n",
       "\n",
       "    .dataframe tbody tr th {\n",
       "        vertical-align: top;\n",
       "    }\n",
       "\n",
       "    .dataframe thead th {\n",
       "        text-align: right;\n",
       "    }\n",
       "</style>\n",
       "<table border=\"1\" class=\"dataframe\">\n",
       "  <thead>\n",
       "    <tr style=\"text-align: right;\">\n",
       "      <th></th>\n",
       "      <th>Long</th>\n",
       "      <th>Short</th>\n",
       "      <th>TotalReturn</th>\n",
       "      <th>Beta</th>\n",
       "      <th>Return</th>\n",
       "      <th>SPX</th>\n",
       "      <th>SPTR</th>\n",
       "      <th>VIX</th>\n",
       "      <th>mktrf</th>\n",
       "      <th>smb</th>\n",
       "      <th>hml</th>\n",
       "      <th>rf</th>\n",
       "      <th>umd</th>\n",
       "    </tr>\n",
       "    <tr>\n",
       "      <th>Date</th>\n",
       "      <th></th>\n",
       "      <th></th>\n",
       "      <th></th>\n",
       "      <th></th>\n",
       "      <th></th>\n",
       "      <th></th>\n",
       "      <th></th>\n",
       "      <th></th>\n",
       "      <th></th>\n",
       "      <th></th>\n",
       "      <th></th>\n",
       "      <th></th>\n",
       "      <th></th>\n",
       "    </tr>\n",
       "  </thead>\n",
       "  <tbody>\n",
       "    <tr>\n",
       "      <th>2005-01-03</th>\n",
       "      <td>0.000453</td>\n",
       "      <td>-0.000921</td>\n",
       "      <td>-0.000468</td>\n",
       "      <td>0.585119</td>\n",
       "      <td>-0.009146</td>\n",
       "      <td>-0.008119</td>\n",
       "      <td>-0.008109</td>\n",
       "      <td>0.059443</td>\n",
       "      <td>-0.010049</td>\n",
       "      <td>-0.0056</td>\n",
       "      <td>-0.0019</td>\n",
       "      <td>0.00008</td>\n",
       "      <td>-0.0067</td>\n",
       "    </tr>\n",
       "    <tr>\n",
       "      <th>2005-01-04</th>\n",
       "      <td>0.000109</td>\n",
       "      <td>0.001314</td>\n",
       "      <td>0.001423</td>\n",
       "      <td>0.610066</td>\n",
       "      <td>-0.012308</td>\n",
       "      <td>-0.011671</td>\n",
       "      <td>-0.011571</td>\n",
       "      <td>-0.007102</td>\n",
       "      <td>-0.012817</td>\n",
       "      <td>-0.0057</td>\n",
       "      <td>0.0049</td>\n",
       "      <td>0.00008</td>\n",
       "      <td>0.0025</td>\n",
       "    </tr>\n",
       "    <tr>\n",
       "      <th>2005-01-05</th>\n",
       "      <td>-0.000180</td>\n",
       "      <td>-0.000711</td>\n",
       "      <td>-0.000891</td>\n",
       "      <td>0.613396</td>\n",
       "      <td>-0.003115</td>\n",
       "      <td>-0.003628</td>\n",
       "      <td>-0.003534</td>\n",
       "      <td>0.007868</td>\n",
       "      <td>-0.006181</td>\n",
       "      <td>-0.0106</td>\n",
       "      <td>0.0001</td>\n",
       "      <td>0.00008</td>\n",
       "      <td>0.0001</td>\n",
       "    </tr>\n",
       "    <tr>\n",
       "      <th>2005-01-06</th>\n",
       "      <td>-0.000173</td>\n",
       "      <td>0.000003</td>\n",
       "      <td>-0.000170</td>\n",
       "      <td>0.632305</td>\n",
       "      <td>0.006250</td>\n",
       "      <td>0.003506</td>\n",
       "      <td>0.003731</td>\n",
       "      <td>-0.036196</td>\n",
       "      <td>0.003406</td>\n",
       "      <td>-0.0014</td>\n",
       "      <td>0.0017</td>\n",
       "      <td>0.00008</td>\n",
       "      <td>0.0005</td>\n",
       "    </tr>\n",
       "    <tr>\n",
       "      <th>2005-01-07</th>\n",
       "      <td>0.000545</td>\n",
       "      <td>0.000859</td>\n",
       "      <td>0.001403</td>\n",
       "      <td>0.632809</td>\n",
       "      <td>0.001553</td>\n",
       "      <td>-0.001431</td>\n",
       "      <td>-0.001418</td>\n",
       "      <td>-0.006627</td>\n",
       "      <td>-0.002297</td>\n",
       "      <td>-0.0075</td>\n",
       "      <td>-0.0003</td>\n",
       "      <td>0.00008</td>\n",
       "      <td>-0.0017</td>\n",
       "    </tr>\n",
       "  </tbody>\n",
       "</table>\n",
       "</div>"
      ],
      "text/plain": [
       "                Long     Short  TotalReturn      Beta    Return       SPX  \\\n",
       "Date                                                                        \n",
       "2005-01-03  0.000453 -0.000921    -0.000468  0.585119 -0.009146 -0.008119   \n",
       "2005-01-04  0.000109  0.001314     0.001423  0.610066 -0.012308 -0.011671   \n",
       "2005-01-05 -0.000180 -0.000711    -0.000891  0.613396 -0.003115 -0.003628   \n",
       "2005-01-06 -0.000173  0.000003    -0.000170  0.632305  0.006250  0.003506   \n",
       "2005-01-07  0.000545  0.000859     0.001403  0.632809  0.001553 -0.001431   \n",
       "\n",
       "                SPTR       VIX     mktrf     smb     hml       rf     umd  \n",
       "Date                                                                       \n",
       "2005-01-03 -0.008109  0.059443 -0.010049 -0.0056 -0.0019  0.00008 -0.0067  \n",
       "2005-01-04 -0.011571 -0.007102 -0.012817 -0.0057  0.0049  0.00008  0.0025  \n",
       "2005-01-05 -0.003534  0.007868 -0.006181 -0.0106  0.0001  0.00008  0.0001  \n",
       "2005-01-06  0.003731 -0.036196  0.003406 -0.0014  0.0017  0.00008  0.0005  \n",
       "2005-01-07 -0.001418 -0.006627 -0.002297 -0.0075 -0.0003  0.00008 -0.0017  "
      ]
     },
     "execution_count": 56,
     "metadata": {},
     "output_type": "execute_result"
    }
   ],
   "source": [
    "### Finding the portfolio performance using financials\n",
    "fin_ret = pd.read_excel('FinancialPort.xlsx')\n",
    "fin_ret['Date'] = pd.to_datetime(fin_ret['Date'],format='%m/%d/%Y')\n",
    "fin_ret.set_index('Date', inplace=True)\n",
    "fin_ret = fin_ret.merge(data, left_index=True, right_index=True, how='left')\n",
    "fin_ret.head()"
   ]
  },
  {
   "cell_type": "code",
   "execution_count": 57,
   "metadata": {},
   "outputs": [
    {
     "data": {
      "text/html": [
       "<div>\n",
       "<style scoped>\n",
       "    .dataframe tbody tr th:only-of-type {\n",
       "        vertical-align: middle;\n",
       "    }\n",
       "\n",
       "    .dataframe tbody tr th {\n",
       "        vertical-align: top;\n",
       "    }\n",
       "\n",
       "    .dataframe thead th {\n",
       "        text-align: right;\n",
       "    }\n",
       "</style>\n",
       "<table border=\"1\" class=\"dataframe\">\n",
       "  <thead>\n",
       "    <tr style=\"text-align: right;\">\n",
       "      <th></th>\n",
       "      <th>Long</th>\n",
       "      <th>Short</th>\n",
       "      <th>TotalReturn</th>\n",
       "      <th>Beta</th>\n",
       "      <th>Return</th>\n",
       "      <th>SPX</th>\n",
       "      <th>SPTR</th>\n",
       "      <th>VIX</th>\n",
       "      <th>mktrf</th>\n",
       "      <th>smb</th>\n",
       "      <th>hml</th>\n",
       "      <th>rf</th>\n",
       "      <th>umd</th>\n",
       "    </tr>\n",
       "    <tr>\n",
       "      <th>Date</th>\n",
       "      <th></th>\n",
       "      <th></th>\n",
       "      <th></th>\n",
       "      <th></th>\n",
       "      <th></th>\n",
       "      <th></th>\n",
       "      <th></th>\n",
       "      <th></th>\n",
       "      <th></th>\n",
       "      <th></th>\n",
       "      <th></th>\n",
       "      <th></th>\n",
       "      <th></th>\n",
       "    </tr>\n",
       "  </thead>\n",
       "  <tbody>\n",
       "    <tr>\n",
       "      <th>2009-12-24</th>\n",
       "      <td>0.007593</td>\n",
       "      <td>0.000211</td>\n",
       "      <td>0.007804</td>\n",
       "      <td>0.955339</td>\n",
       "      <td>0.004200</td>\n",
       "      <td>0.005256</td>\n",
       "      <td>0.005254</td>\n",
       "      <td>-0.012177</td>\n",
       "      <td>0.005214</td>\n",
       "      <td>-0.0008</td>\n",
       "      <td>0.0016</td>\n",
       "      <td>0.0</td>\n",
       "      <td>0.0025</td>\n",
       "    </tr>\n",
       "    <tr>\n",
       "      <th>2009-12-28</th>\n",
       "      <td>-0.007774</td>\n",
       "      <td>-0.000058</td>\n",
       "      <td>-0.007832</td>\n",
       "      <td>0.955054</td>\n",
       "      <td>0.000738</td>\n",
       "      <td>0.001154</td>\n",
       "      <td>0.001286</td>\n",
       "      <td>0.023626</td>\n",
       "      <td>0.001001</td>\n",
       "      <td>-0.0015</td>\n",
       "      <td>-0.0030</td>\n",
       "      <td>0.0</td>\n",
       "      <td>-0.0018</td>\n",
       "    </tr>\n",
       "    <tr>\n",
       "      <th>2009-12-29</th>\n",
       "      <td>0.001205</td>\n",
       "      <td>-0.004967</td>\n",
       "      <td>-0.003762</td>\n",
       "      <td>0.954065</td>\n",
       "      <td>-0.000983</td>\n",
       "      <td>-0.001401</td>\n",
       "      <td>-0.001227</td>\n",
       "      <td>0.004014</td>\n",
       "      <td>-0.000900</td>\n",
       "      <td>0.0008</td>\n",
       "      <td>-0.0008</td>\n",
       "      <td>0.0</td>\n",
       "      <td>-0.0037</td>\n",
       "    </tr>\n",
       "    <tr>\n",
       "      <th>2009-12-30</th>\n",
       "      <td>0.006554</td>\n",
       "      <td>-0.005723</td>\n",
       "      <td>0.000831</td>\n",
       "      <td>0.954356</td>\n",
       "      <td>-0.001968</td>\n",
       "      <td>0.000195</td>\n",
       "      <td>0.000287</td>\n",
       "      <td>-0.002499</td>\n",
       "      <td>-0.000700</td>\n",
       "      <td>-0.0004</td>\n",
       "      <td>-0.0018</td>\n",
       "      <td>0.0</td>\n",
       "      <td>-0.0010</td>\n",
       "    </tr>\n",
       "    <tr>\n",
       "      <th>2009-12-31</th>\n",
       "      <td>0.008854</td>\n",
       "      <td>-0.002180</td>\n",
       "      <td>0.006674</td>\n",
       "      <td>0.950090</td>\n",
       "      <td>-0.003945</td>\n",
       "      <td>-0.010050</td>\n",
       "      <td>-0.010043</td>\n",
       "      <td>0.086172</td>\n",
       "      <td>-0.008761</td>\n",
       "      <td>-0.0013</td>\n",
       "      <td>0.0015</td>\n",
       "      <td>0.0</td>\n",
       "      <td>0.0005</td>\n",
       "    </tr>\n",
       "  </tbody>\n",
       "</table>\n",
       "</div>"
      ],
      "text/plain": [
       "                Long     Short  TotalReturn      Beta    Return       SPX  \\\n",
       "Date                                                                        \n",
       "2009-12-24  0.007593  0.000211     0.007804  0.955339  0.004200  0.005256   \n",
       "2009-12-28 -0.007774 -0.000058    -0.007832  0.955054  0.000738  0.001154   \n",
       "2009-12-29  0.001205 -0.004967    -0.003762  0.954065 -0.000983 -0.001401   \n",
       "2009-12-30  0.006554 -0.005723     0.000831  0.954356 -0.001968  0.000195   \n",
       "2009-12-31  0.008854 -0.002180     0.006674  0.950090 -0.003945 -0.010050   \n",
       "\n",
       "                SPTR       VIX     mktrf     smb     hml   rf     umd  \n",
       "Date                                                                   \n",
       "2009-12-24  0.005254 -0.012177  0.005214 -0.0008  0.0016  0.0  0.0025  \n",
       "2009-12-28  0.001286  0.023626  0.001001 -0.0015 -0.0030  0.0 -0.0018  \n",
       "2009-12-29 -0.001227  0.004014 -0.000900  0.0008 -0.0008  0.0 -0.0037  \n",
       "2009-12-30  0.000287 -0.002499 -0.000700 -0.0004 -0.0018  0.0 -0.0010  \n",
       "2009-12-31 -0.010043  0.086172 -0.008761 -0.0013  0.0015  0.0  0.0005  "
      ]
     },
     "execution_count": 57,
     "metadata": {},
     "output_type": "execute_result"
    }
   ],
   "source": [
    "fin_ret.tail()"
   ]
  },
  {
   "cell_type": "code",
   "execution_count": 58,
   "metadata": {},
   "outputs": [
    {
     "name": "stdout",
     "output_type": "stream",
     "text": [
      "Financial annualized Return is 6.59%\n",
      "Financial annualized Volatility is 9.77%\n",
      "Financial sharpe Ratio is 0.67\n"
     ]
    }
   ],
   "source": [
    "statistics(fin_ret['TotalReturn'],'Financial')"
   ]
  },
  {
   "cell_type": "code",
   "execution_count": 59,
   "metadata": {},
   "outputs": [
    {
     "data": {
      "text/html": [
       "<table class=\"simpletable\">\n",
       "<caption>OLS Regression Results</caption>\n",
       "<tr>\n",
       "  <th>Dep. Variable:</th>       <td>TotalReturn</td>   <th>  R-squared:         </th> <td>   0.000</td>\n",
       "</tr>\n",
       "<tr>\n",
       "  <th>Model:</th>                   <td>OLS</td>       <th>  Adj. R-squared:    </th> <td>  -0.001</td>\n",
       "</tr>\n",
       "<tr>\n",
       "  <th>Method:</th>             <td>Least Squares</td>  <th>  F-statistic:       </th> <td> 0.01771</td>\n",
       "</tr>\n",
       "<tr>\n",
       "  <th>Date:</th>             <td>Fri, 16 Oct 2020</td> <th>  Prob (F-statistic):</th>  <td> 0.894</td> \n",
       "</tr>\n",
       "<tr>\n",
       "  <th>Time:</th>                 <td>18:57:14</td>     <th>  Log-Likelihood:    </th> <td>  4623.1</td>\n",
       "</tr>\n",
       "<tr>\n",
       "  <th>No. Observations:</th>      <td>  1259</td>      <th>  AIC:               </th> <td>  -9242.</td>\n",
       "</tr>\n",
       "<tr>\n",
       "  <th>Df Residuals:</th>          <td>  1257</td>      <th>  BIC:               </th> <td>  -9232.</td>\n",
       "</tr>\n",
       "<tr>\n",
       "  <th>Df Model:</th>              <td>     1</td>      <th>                     </th>     <td> </td>   \n",
       "</tr>\n",
       "<tr>\n",
       "  <th>Covariance Type:</th>      <td>nonrobust</td>    <th>                     </th>     <td> </td>   \n",
       "</tr>\n",
       "</table>\n",
       "<table class=\"simpletable\">\n",
       "<tr>\n",
       "      <td></td>         <th>coef</th>     <th>std err</th>      <th>t</th>      <th>P>|t|</th>  <th>[0.025</th>    <th>0.975]</th>  \n",
       "</tr>\n",
       "<tr>\n",
       "  <th>Intercept</th> <td>    0.0003</td> <td>    0.000</td> <td>    1.508</td> <td> 0.132</td> <td>-7.88e-05</td> <td>    0.001</td>\n",
       "</tr>\n",
       "<tr>\n",
       "  <th>mktrf</th>     <td>   -0.0015</td> <td>    0.011</td> <td>   -0.133</td> <td> 0.894</td> <td>   -0.024</td> <td>    0.021</td>\n",
       "</tr>\n",
       "</table>\n",
       "<table class=\"simpletable\">\n",
       "<tr>\n",
       "  <th>Omnibus:</th>       <td>476.886</td> <th>  Durbin-Watson:     </th> <td>   1.818</td> \n",
       "</tr>\n",
       "<tr>\n",
       "  <th>Prob(Omnibus):</th> <td> 0.000</td>  <th>  Jarque-Bera (JB):  </th> <td>36845.951</td>\n",
       "</tr>\n",
       "<tr>\n",
       "  <th>Skew:</th>          <td>-0.843</td>  <th>  Prob(JB):          </th> <td>    0.00</td> \n",
       "</tr>\n",
       "<tr>\n",
       "  <th>Kurtosis:</th>      <td>29.449</td>  <th>  Cond. No.          </th> <td>    65.8</td> \n",
       "</tr>\n",
       "</table><br/><br/>Warnings:<br/>[1] Standard Errors assume that the covariance matrix of the errors is correctly specified."
      ],
      "text/plain": [
       "<class 'statsmodels.iolib.summary.Summary'>\n",
       "\"\"\"\n",
       "                            OLS Regression Results                            \n",
       "==============================================================================\n",
       "Dep. Variable:            TotalReturn   R-squared:                       0.000\n",
       "Model:                            OLS   Adj. R-squared:                 -0.001\n",
       "Method:                 Least Squares   F-statistic:                   0.01771\n",
       "Date:                Fri, 16 Oct 2020   Prob (F-statistic):              0.894\n",
       "Time:                        18:57:14   Log-Likelihood:                 4623.1\n",
       "No. Observations:                1259   AIC:                            -9242.\n",
       "Df Residuals:                    1257   BIC:                            -9232.\n",
       "Df Model:                           1                                         \n",
       "Covariance Type:            nonrobust                                         \n",
       "==============================================================================\n",
       "                 coef    std err          t      P>|t|      [0.025      0.975]\n",
       "------------------------------------------------------------------------------\n",
       "Intercept      0.0003      0.000      1.508      0.132   -7.88e-05       0.001\n",
       "mktrf         -0.0015      0.011     -0.133      0.894      -0.024       0.021\n",
       "==============================================================================\n",
       "Omnibus:                      476.886   Durbin-Watson:                   1.818\n",
       "Prob(Omnibus):                  0.000   Jarque-Bera (JB):            36845.951\n",
       "Skew:                          -0.843   Prob(JB):                         0.00\n",
       "Kurtosis:                      29.449   Cond. No.                         65.8\n",
       "==============================================================================\n",
       "\n",
       "Warnings:\n",
       "[1] Standard Errors assume that the covariance matrix of the errors is correctly specified.\n",
       "\"\"\""
      ]
     },
     "execution_count": 59,
     "metadata": {},
     "output_type": "execute_result"
    }
   ],
   "source": [
    "### Checking the market neutrality of return\n",
    "fin_reg = smf.ols('TotalReturn ~ mktrf', data=fin_ret).fit()\n",
    "fin_reg.summary()"
   ]
  },
  {
   "cell_type": "code",
   "execution_count": 60,
   "metadata": {},
   "outputs": [
    {
     "data": {
      "text/html": [
       "<div>\n",
       "<style scoped>\n",
       "    .dataframe tbody tr th:only-of-type {\n",
       "        vertical-align: middle;\n",
       "    }\n",
       "\n",
       "    .dataframe tbody tr th {\n",
       "        vertical-align: top;\n",
       "    }\n",
       "\n",
       "    .dataframe thead th {\n",
       "        text-align: right;\n",
       "    }\n",
       "</style>\n",
       "<table border=\"1\" class=\"dataframe\">\n",
       "  <thead>\n",
       "    <tr style=\"text-align: right;\">\n",
       "      <th></th>\n",
       "      <th>Long</th>\n",
       "      <th>Short</th>\n",
       "      <th>Total Weigh</th>\n",
       "    </tr>\n",
       "    <tr>\n",
       "      <th>Date</th>\n",
       "      <th></th>\n",
       "      <th></th>\n",
       "      <th></th>\n",
       "    </tr>\n",
       "  </thead>\n",
       "  <tbody>\n",
       "    <tr>\n",
       "      <th>2005-01-03</th>\n",
       "      <td>0.010417</td>\n",
       "      <td>-0.031250</td>\n",
       "      <td>-0.020833</td>\n",
       "    </tr>\n",
       "    <tr>\n",
       "      <th>2005-01-04</th>\n",
       "      <td>0.062500</td>\n",
       "      <td>-0.083333</td>\n",
       "      <td>-0.020833</td>\n",
       "    </tr>\n",
       "    <tr>\n",
       "      <th>2005-01-05</th>\n",
       "      <td>0.020833</td>\n",
       "      <td>-0.041667</td>\n",
       "      <td>-0.020833</td>\n",
       "    </tr>\n",
       "    <tr>\n",
       "      <th>2005-01-06</th>\n",
       "      <td>0.020833</td>\n",
       "      <td>-0.052083</td>\n",
       "      <td>-0.031250</td>\n",
       "    </tr>\n",
       "    <tr>\n",
       "      <th>2005-01-07</th>\n",
       "      <td>0.031250</td>\n",
       "      <td>-0.104167</td>\n",
       "      <td>-0.072917</td>\n",
       "    </tr>\n",
       "  </tbody>\n",
       "</table>\n",
       "</div>"
      ],
      "text/plain": [
       "                Long     Short  Total Weigh\n",
       "Date                                       \n",
       "2005-01-03  0.010417 -0.031250    -0.020833\n",
       "2005-01-04  0.062500 -0.083333    -0.020833\n",
       "2005-01-05  0.020833 -0.041667    -0.020833\n",
       "2005-01-06  0.020833 -0.052083    -0.031250\n",
       "2005-01-07  0.031250 -0.104167    -0.072917"
      ]
     },
     "execution_count": 60,
     "metadata": {},
     "output_type": "execute_result"
    }
   ],
   "source": [
    "### Finding the net and gross exposure\n",
    "fin_ret = pd.read_excel('FinancialWeight.xlsx')\n",
    "fin_ret['Date'] = pd.to_datetime(fin_ret['Date'],format='%m/%d/%Y')\n",
    "fin_ret.set_index('Date', inplace=True)\n",
    "fin_ret.head()"
   ]
  },
  {
   "cell_type": "code",
   "execution_count": 61,
   "metadata": {},
   "outputs": [
    {
     "data": {
      "image/png": "[encoded data removed]",
      "text/plain": [
       "<Figure size 720x432 with 1 Axes>"
      ]
     },
     "metadata": {
      "needs_background": "light"
     },
     "output_type": "display_data"
    }
   ],
   "source": [
    "### Plotting the net exposure\n",
    "(fin_ret['Total Weigh']*100).plot( figsize=(10,6))\n",
    "plt.title('Net Exposure')\n",
    "plt.ylabel('Expsoure in %')\n",
    "plt.savefig('NetExposure.jpeg')\n",
    "plt.show()"
   ]
  },
  {
   "cell_type": "code",
   "execution_count": 62,
   "metadata": {},
   "outputs": [
    {
     "data": {
      "image/png": "[encoded data removed]",
      "text/plain": [
       "<Figure size 720x432 with 1 Axes>"
      ]
     },
     "metadata": {
      "needs_background": "light"
     },
     "output_type": "display_data"
    }
   ],
   "source": [
    "### Plotting the net exposure\n",
    "(fin_ret['Long']*100).plot(label='Long Leg', figsize=(10,6))\n",
    "(fin_ret['Short']*100).plot(label='Short Leg', figsize=(10,6))\n",
    "plt.title('Gross Exposure')\n",
    "plt.ylabel('Expsoure in %')\n",
    "plt.legend()\n",
    "plt.savefig('GrossExposure.jpeg')\n",
    "plt.show()"
   ]
  },
  {
   "cell_type": "code",
   "execution_count": null,
   "metadata": {},
   "outputs": [],
   "source": []
  }
 ],
 "metadata": {
  "kernelspec": {
   "display_name": "Python 3",
   "language": "python",
   "name": "python3"
  },
  "language_info": {
   "codemirror_mode": {
    "name": "ipython",
    "version": 3
   },
   "file_extension": ".py",
   "mimetype": "text/x-python",
   "name": "python",
   "nbconvert_exporter": "python",
   "pygments_lexer": "ipython3",
   "version": "3.8.3"
  }
 },
 "nbformat": 4,
 "nbformat_minor": 2
}
